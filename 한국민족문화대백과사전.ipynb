{
 "cells": [
  {
   "cell_type": "code",
   "execution_count": 2,
   "metadata": {},
   "outputs": [],
   "source": [
    "import pandas as pd \n",
    "import matplotlib.pyplot as plt\n",
    "import seaborn as sns\n",
    "import warnings\n",
    "warnings.filterwarnings('ignore')\n",
    "%matplotlib inline \n",
    "plt.style.use('ggplot')\n",
    "from matplotlib import font_manager,rc\n",
    "font_f = font_manager.FontProperties(fname='C:/Windows/Fonts/malgun.ttf').get_name()\n",
    "rc('font',family=font_f)\n"
   ]
  },
  {
   "cell_type": "code",
   "execution_count": 3,
   "metadata": {},
   "outputs": [],
   "source": [
    "korea = pd.read_csv(\"C:/Users/Lee Jong Ann/Downloads/Untitled Folder 1/csv데이터/한국민족문화대백과사전 텍스트콘텐츠 메타데이터(20200330).csv\",encoding='UTF-8')"
   ]
  },
  {
   "cell_type": "code",
   "execution_count": 4,
   "metadata": {
    "scrolled": true
   },
   "outputs": [
    {
     "data": {
      "text/html": [
       "<div>\n",
       "<style scoped>\n",
       "    .dataframe tbody tr th:only-of-type {\n",
       "        vertical-align: middle;\n",
       "    }\n",
       "\n",
       "    .dataframe tbody tr th {\n",
       "        vertical-align: top;\n",
       "    }\n",
       "\n",
       "    .dataframe thead th {\n",
       "        text-align: right;\n",
       "    }\n",
       "</style>\n",
       "<table border=\"1\" class=\"dataframe\">\n",
       "  <thead>\n",
       "    <tr style=\"text-align: right;\">\n",
       "      <th></th>\n",
       "      <th>대표항목명</th>\n",
       "      <th>한글항목명</th>\n",
       "      <th>한자항목명</th>\n",
       "      <th>이칭별칭</th>\n",
       "      <th>키워드</th>\n",
       "      <th>분야</th>\n",
       "      <th>유형</th>\n",
       "      <th>시대</th>\n",
       "      <th>웹사이트 주소</th>\n",
       "    </tr>\n",
       "  </thead>\n",
       "  <tbody>\n",
       "    <tr>\n",
       "      <td>0</td>\n",
       "      <td>ㄱ</td>\n",
       "      <td>ㄱ</td>\n",
       "      <td>NaN</td>\n",
       "      <td>기역</td>\n",
       "      <td>NaN</td>\n",
       "      <td>언어/언어·문자</td>\n",
       "      <td>개념용어</td>\n",
       "      <td>NaN</td>\n",
       "      <td>http://encykorea.aks.ac.kr/Contents/Item/E0000002</td>\n",
       "    </tr>\n",
       "    <tr>\n",
       "      <td>1</td>\n",
       "      <td>ㄱ당</td>\n",
       "      <td>ㄱ당</td>\n",
       "      <td>─黨</td>\n",
       "      <td>기역당</td>\n",
       "      <td>신간회</td>\n",
       "      <td>역사/근대사</td>\n",
       "      <td>단체</td>\n",
       "      <td>근대</td>\n",
       "      <td>http://encykorea.aks.ac.kr/Contents/Item/E0000003</td>\n",
       "    </tr>\n",
       "    <tr>\n",
       "      <td>2</td>\n",
       "      <td>ㄱ자집</td>\n",
       "      <td>ㄱ자집</td>\n",
       "      <td>─字─</td>\n",
       "      <td>기역자집</td>\n",
       "      <td>NaN</td>\n",
       "      <td>생활/주생활</td>\n",
       "      <td>개념용어</td>\n",
       "      <td>NaN</td>\n",
       "      <td>http://encykorea.aks.ac.kr/Contents/Item/E0000004</td>\n",
       "    </tr>\n",
       "    <tr>\n",
       "      <td>3</td>\n",
       "      <td>가</td>\n",
       "      <td>가</td>\n",
       "      <td>加</td>\n",
       "      <td>NaN</td>\n",
       "      <td>부족단체명, 관명, 지배층, 군장</td>\n",
       "      <td>역사/고대사</td>\n",
       "      <td>제도</td>\n",
       "      <td>고대/초기국가</td>\n",
       "      <td>http://encykorea.aks.ac.kr/Contents/Item/E0000005</td>\n",
       "    </tr>\n",
       "    <tr>\n",
       "      <td>4</td>\n",
       "      <td>가</td>\n",
       "      <td>가</td>\n",
       "      <td>枷</td>\n",
       "      <td>칼</td>\n",
       "      <td>형구(刑具), 추(杻), 질(桎)</td>\n",
       "      <td>역사/조선시대사</td>\n",
       "      <td>제도</td>\n",
       "      <td>조선</td>\n",
       "      <td>http://encykorea.aks.ac.kr/Contents/Item/E0000006</td>\n",
       "    </tr>\n",
       "  </tbody>\n",
       "</table>\n",
       "</div>"
      ],
      "text/plain": [
       "  대표항목명 한글항목명 한자항목명  이칭별칭                 키워드        분야    유형       시대  \\\n",
       "0     ㄱ     ㄱ   NaN    기역                 NaN  언어/언어·문자  개념용어      NaN   \n",
       "1    ㄱ당    ㄱ당    ─黨   기역당                 신간회    역사/근대사    단체       근대   \n",
       "2   ㄱ자집   ㄱ자집   ─字─  기역자집                 NaN    생활/주생활  개념용어      NaN   \n",
       "3     가     가     加   NaN  부족단체명, 관명, 지배층, 군장    역사/고대사    제도  고대/초기국가   \n",
       "4     가     가     枷     칼  형구(刑具), 추(杻), 질(桎)  역사/조선시대사    제도       조선   \n",
       "\n",
       "                                             웹사이트 주소  \n",
       "0  http://encykorea.aks.ac.kr/Contents/Item/E0000002  \n",
       "1  http://encykorea.aks.ac.kr/Contents/Item/E0000003  \n",
       "2  http://encykorea.aks.ac.kr/Contents/Item/E0000004  \n",
       "3  http://encykorea.aks.ac.kr/Contents/Item/E0000005  \n",
       "4  http://encykorea.aks.ac.kr/Contents/Item/E0000006  "
      ]
     },
     "execution_count": 4,
     "metadata": {},
     "output_type": "execute_result"
    }
   ],
   "source": [
    "korea.head()"
   ]
  },
  {
   "cell_type": "code",
   "execution_count": 5,
   "metadata": {
    "scrolled": true
   },
   "outputs": [
    {
     "data": {
      "text/plain": [
       "Index(['대표항목명', '한글항목명', '한자항목명', '이칭별칭', '키워드', '분야', '유형', '시대', '웹사이트 주소'], dtype='object')"
      ]
     },
     "execution_count": 5,
     "metadata": {},
     "output_type": "execute_result"
    }
   ],
   "source": [
    "korea.columns"
   ]
  },
  {
   "cell_type": "code",
   "execution_count": 6,
   "metadata": {
    "scrolled": true
   },
   "outputs": [
    {
     "name": "stdout",
     "output_type": "stream",
     "text": [
      "<class 'pandas.core.frame.DataFrame'>\n",
      "RangeIndex: 73587 entries, 0 to 73586\n",
      "Data columns (total 9 columns):\n",
      "대표항목명      73587 non-null object\n",
      "한글항목명      73587 non-null object\n",
      "한자항목명      70014 non-null object\n",
      "이칭별칭       21200 non-null object\n",
      "키워드        39557 non-null object\n",
      "분야         73587 non-null object\n",
      "유형         73587 non-null object\n",
      "시대         60389 non-null object\n",
      "웹사이트 주소    73587 non-null object\n",
      "dtypes: object(9)\n",
      "memory usage: 5.1+ MB\n"
     ]
    }
   ],
   "source": [
    "korea.info()"
   ]
  },
  {
   "cell_type": "code",
   "execution_count": 12,
   "metadata": {
    "scrolled": true
   },
   "outputs": [
    {
     "data": {
      "text/plain": [
       "대표항목명          0\n",
       "한글항목명          0\n",
       "한자항목명       3573\n",
       "이칭별칭       52387\n",
       "키워드        34030\n",
       "분야             0\n",
       "유형             0\n",
       "시대         13198\n",
       "웹사이트 주소        0\n",
       "dtype: int64"
      ]
     },
     "execution_count": 12,
     "metadata": {},
     "output_type": "execute_result"
    }
   ],
   "source": [
    "korea.isnull().sum()"
   ]
  },
  {
   "cell_type": "code",
   "execution_count": 13,
   "metadata": {
    "scrolled": false
   },
   "outputs": [
    {
     "data": {
      "text/plain": [
       "<matplotlib.axes._subplots.AxesSubplot at 0x1a6f4c1dc08>"
      ]
     },
     "execution_count": 13,
     "metadata": {},
     "output_type": "execute_result"
    },
    {
     "data": {
      "image/png": "[encoded data removed]",
      "text/plain": [
       "<Figure size 1224x504 with 2 Axes>"
      ]
     },
     "metadata": {
      "needs_background": "light"
     },
     "output_type": "display_data"
    }
   ],
   "source": [
    "import missingno \n",
    "missingno.matrix(korea,figsize=(17,7))"
   ]
  },
  {
   "cell_type": "code",
   "execution_count": 14,
   "metadata": {},
   "outputs": [],
   "source": [
    "korea['이칭별칭'] = korea['이칭별칭'].fillna(' ')"
   ]
  },
  {
   "cell_type": "code",
   "execution_count": 15,
   "metadata": {},
   "outputs": [
    {
     "data": {
      "text/plain": [
       "<matplotlib.axes._subplots.AxesSubplot at 0x1a6f4bb4b08>"
      ]
     },
     "execution_count": 15,
     "metadata": {},
     "output_type": "execute_result"
    },
    {
     "data": {
      "image/png": "[encoded data removed]",
      "text/plain": [
       "<Figure size 1224x504 with 2 Axes>"
      ]
     },
     "metadata": {
      "needs_background": "light"
     },
     "output_type": "display_data"
    }
   ],
   "source": [
    "import missingno \n",
    "missingno.matrix(korea,figsize=(17,7))"
   ]
  },
  {
   "cell_type": "code",
   "execution_count": 10,
   "metadata": {},
   "outputs": [
    {
     "data": {
      "text/plain": [
       "인물       18506\n",
       "문헌       11854\n",
       "유적        8092\n",
       "제도        6619\n",
       "개념용어      6425\n",
       "단체        5747\n",
       "작품        4544\n",
       "지명/지명     3598\n",
       "유물        2447\n",
       "동식물       1628\n",
       "물품        1504\n",
       "사건        1132\n",
       "의식행사       728\n",
       "놀이         226\n",
       "지명/행정      226\n",
       "지명/국가      193\n",
       "지명         117\n",
       "유적|무덤        1\n",
       "Name: 유형, dtype: int64"
      ]
     },
     "execution_count": 10,
     "metadata": {},
     "output_type": "execute_result"
    }
   ],
   "source": [
    "korea['유형'].value_counts()"
   ]
  },
  {
   "cell_type": "code",
   "execution_count": 9,
   "metadata": {
    "scrolled": false
   },
   "outputs": [
    {
     "data": {
      "text/plain": [
       "array([nan, '근대', '고대/초기국가', '조선', '고대/삼국', '고려', '현대/현대', '고대/남북국',\n",
       "       '선사/석기', '선사/청동기', '근대/일제강점기', '조선/조선 후기', '조선/조선', '고려/고려 후기',\n",
       "       '조선/조선후기', '고대/삼국/신라', '고대/삼국/신라|고대/남북국/통일신라', '고대/삼국/가야',\n",
       "       '근대/개항기', '고대/남북국/통일신라', '선사/철기', '고대/삼국|조선', '고려/고려후기',\n",
       "       '고려/고려 전기', '고대/남북국/통일신라|고대/초기국가/삼한|고대/삼국/신라', '고대/삼국/고구려',\n",
       "       '고대/남북국/통일신라|고대/삼국/신라', '조선/조선 전기', '고대/남북국/발해', '조선/조선전기',\n",
       "       '고대/남북국|고려/고려 전기', '고려/고려|조선/조선', '근대/일제강점기|현대/현대',\n",
       "       '근대/개항기|근대/일제강점기', '고려/고려전기', '선사/석기|선사/청동기', '현대',\n",
       "       '고려/고려 후기|조선/조선 전기', '고려|조선', '고대/삼국/백제', '고려/고려',\n",
       "       '고대/삼국/고구려|고대/남북국/통일신라', '고대',\n",
       "       '고대/삼국/가야|고대/삼국/고구려|고대/삼국/백제|고대/삼국/신라',\n",
       "       '고대/초기국가/삼한|고대/초기국가/고조선|고대/삼국/신라|고대/삼국/백제|고대/삼국/고구려|고대/삼국/가야',\n",
       "       '고대/남북국/통일신라|고려/고려전기|고려/고려후기|조선/조선전기', '선사', '고대/초기국가/고조선',\n",
       "       '고대/남북국/통일신라|고대/남북국/후백제|고려/고려 전기', '조선/조선후기|근대/개항기|근대/일제강점기|현대/현대',\n",
       "       '고려/고려전기|고려/고려후기', '근대|현대', '고대/삼국/고구려|고대/삼국/백제|고대/삼국/신라|고대/삼국/가야',\n",
       "       '고대/남북국/태봉', '선사/석기|고대/초기국가/삼한|고대/삼국/백제', '고대/삼국|고려|조선',\n",
       "       '고대/남북국/후백제|고려/고려 전기', '고대/초기국가/삼한', '조선/조선후기|근대/일제강점기',\n",
       "       '조선/조선 후기|근대/개항기', '선사/청동기|고대/초기국가/삼한|고대/삼국/가야', '고대/남북국/후백제',\n",
       "       '고대/삼국/신라|고대/삼국/백제', '고대/초기국가/동예', '근대/개항기|근대/일제강점기|현대/현대',\n",
       "       '조선/조선후기|현대/현대', '선사/청동기|고대/초기국가/삼한|고대/삼국/신라', '고대/삼국/신라|고대/삼국/가야',\n",
       "       '고대/삼국/고구려|고대/초기국가/부여', '고려/고려전기|고려/고려후기|조선/조선전기|조선/조선후기',\n",
       "       '선사/석기|선사/청동기|선사/철기', '고대남북국/통일신라', '고대/삼국/백제|고대/삼국/신라',\n",
       "       '고려/고려후기|조선/조선전기',\n",
       "       '선사/청동기|선사/철기|고대/초기국가/삼한|고대/삼국/고구려|고대/삼국/백제|고대/삼국/신라|고대/삼국/가야',\n",
       "       '고대/초기국가/삼한|고대/삼국/고구려|고대/삼국/백제|고대/삼국/신라|고대/삼국/가야',\n",
       "       '고대/삼국/고구려|고대/삼국/백제|고대/삼국/신라', '고려|조선/조선 전기',\n",
       "       '선사/청동기|선사/철기|고대/초기국가/삼한',\n",
       "       '선사/철기|고대/초기국가/삼한|고대/삼국/고구려|고대/삼국/백제|고대/삼국/신라|고대/삼국/가야',\n",
       "       '선사/청동기|선사/철기', '고대/삼국/가야|고대/삼국/신라',\n",
       "       '선사/철기|고대/삼국/가야|고대/삼국/고구려|고대/삼국/백제|고대/삼국/신라', '고대/초기국가/부여',\n",
       "       '조선/조선전기|조선/조선후기|근대/일제강점기', '선사/철기|조선/조선',\n",
       "       '선사/철기|고대/초기국가/삼한|고대/삼국/가야|고대/삼국/고구려|고대/삼국/백제|고대/삼국/신라',\n",
       "       '선사/철기|고대/초기국가/삼한', '고려/고려|조선/조선전기', '고대/삼국/백제|고려/고려 전기',\n",
       "       '고려/고려 전기|조선/조선 후기', '선사/철기|고대/삼국/백제',\n",
       "       '고대/삼국/신라|고대/삼국/가야|고대/삼국/백제', '선사/석기|고대/삼국/가야', '선사/청동기|고대/삼국/백제',\n",
       "       '고대/초기국가/옥저', '고대/남북국/통일신라|고려|조선', '고대/남북국|고려', '고대/남북국/통일신라|고려',\n",
       "       '조선/조선전기|조선/조선후기', '선사/석기|선사/청동기|선사/철기|고대/초기국가/삼한', '고대/삼국/신라|고려',\n",
       "       '고려/고려 후기|근대/일제강점기', '고대/삼국/신라|고대/삼국/고구려', '선사/석기|선사/청동기|고대/삼국/가야',\n",
       "       '고려/고려 전기|고려/고려 후기', '선사/철기|고대/삼국/고구려', '고려/고려전기|고려/고려후기|조선/조선전기',\n",
       "       '고대/삼국/신라|고대/남북국/통일신라|고려/고려전기|고려/고려후기|조선/조선전기',\n",
       "       '선사/석기|선사/청동기|선사/철기|고대/삼국/가야|고대/삼국/고구려|고대/삼국/백제|고대/삼국/신라',\n",
       "       '고대/초기국가/삼한|고대/삼국/백제', '고대/삼국/고구려|조선/조선후기', '고대/남북국/통일신라|고려/고려전기',\n",
       "       '선사/석기|선사/철기|고대/삼국/고구려|고대/삼국/백제|고대/삼국/신라|고대/남북국/통일신라', '삼국|고려|조선',\n",
       "       '선사/석기|선사/청동기|선사/철기|고대/삼국/고구려', '선사/석기|고대/삼국/신라',\n",
       "       '고대/초기국가/삼한|고대/삼국/백제|고대/삼국/신라', '조선/조선|근대/일제강점기', '조선/조선후기|근대/개항기',\n",
       "       '고대/삼국/백제|고대/남북국/통일신라|고려', '조선|근대',\n",
       "       '고대/초기국가/부여|고대/초기국가/삼한|고대/초기국가/동예|고대/삼국/고구려',\n",
       "       '선사/석기|선사/청동기|선사/철기|고대/초기국가/삼한|고대/삼국/고구려|고대/삼국/백제|고대/삼국/신라|고대/삼국/가야',\n",
       "       '고대/초기국가/삼한|고대/삼국/가야', '선사/석기|선사/청동기|고대/삼국|조선/조선',\n",
       "       '고대/삼국|고대/남북국/통일신라', '선사/청동기|고대/삼국',\n",
       "       '고대/초기국가/고조선|고대/삼국/백제|고대/삼국/고구려|고대/남북국/태봉|고대/남북국/통일신라',\n",
       "       '선사/석기|고대/초기국가',\n",
       "       '고대/남북국/통일신라|고려/고려전기|고려/고려후기|조선/조선전기|조선/조선후기|근대/개항기|근대/일제강점기|현대/현대',\n",
       "       '고려/고려 후기|근대/개항기', '통일신라', '고대/삼국/백제|고대/남북국/통일신라',\n",
       "       '고대/남북국/통일신라|조선/조선전기', '조선/조선 전기|조선/조선 후기|근대/개항기|근대/일제강점기|현대/현대',\n",
       "       '선사/청동기|고대/남북국/통일신라|조선/조선전기|조선/조선후기', '선사/청동기|고대/삼국/신라',\n",
       "       '선사/청동기|고대/삼국/신라|고대/남북국/통일신라', '선사/청동기|고대/초기국가/삼한|고대/삼국/백제',\n",
       "       '선사/청동기|고대/초기국가/삼한', '선사/철기|고대/초기국가/삼한|고대/삼국/백제|고대/삼국/신라|고대/삼국/가야',\n",
       "       '고대/삼국/고구려|고대/삼국/가야|고대/삼국/백제|고대/삼국/신라',\n",
       "       '선사/철기|고대/초기국가/삼한|고대/삼국/고구려|고대/삼국/백제|고대/삼국/신라|고대/삼국/가야|고대/남북국/통일신라',\n",
       "       '선사/철기|고대/삼국/고구려|고대/삼국/백제|고대/삼국/신라|고대/삼국/가야',\n",
       "       '선사/철기|고대/초기국가/삼한|고대/삼국/고구려|고대/삼국/백제|고대/삼국/신라',\n",
       "       '선사/철기|고대/초기국가/삼한|고대/초기국가/옥저|고대/삼국/고구려',\n",
       "       '선사/철기|고대/초기국가/삼한|고대/초기국가/동예', '고려/고려후기|고려/고려전기',\n",
       "       '조선/조선후기|조선/조선전기', '고대/삼국|고려', '고대/삼국/신라|현대/현대', '고대/삼국/백제|현대/현대',\n",
       "       '현대/현대|근대/일제강점기', '근대/일제강점기|근대/개항기',\n",
       "       '고대/삼국/고구려|고대/삼국/백제|고대/삼국/신라|고대/남북국/통일신라|고려/고려전기|고려/고려후기|조선/조선전기',\n",
       "       '근대/근대', '근대/일제', '조선/조선전기|고려/고려후기', '고대/삼국시대', '조선시대',\n",
       "       '근대|개항기/근대/일제강점기', '조선/조선|선사/석기', '고대/삼국/백제|고려', '고려/후기|조선/전기',\n",
       "       '고려|조선|근대|현대', '고대/삼국|현대/현대', '근대/개항기|현대/현대',\n",
       "       '선사/석기|선사/청동기|고려/고려|조선/조선', '선사/청동기|조선/조선', '고대/남북국/통일신라|고려/고려 전기',\n",
       "       '고대/삼국|고대/남북국', '고대/삼국/신라|조선/조선', '고대/삼국시대|고려|조선'], dtype=object)"
      ]
     },
     "execution_count": 9,
     "metadata": {},
     "output_type": "execute_result"
    }
   ],
   "source": [
    "korea['시대'].unique()"
   ]
  },
  {
   "cell_type": "code",
   "execution_count": 11,
   "metadata": {},
   "outputs": [
    {
     "data": {
      "text/plain": [
       "<matplotlib.axes._subplots.AxesSubplot at 0x1a6f440a508>"
      ]
     },
     "execution_count": 11,
     "metadata": {},
     "output_type": "execute_result"
    },
    {
     "data": {
      "image/png": "[encoded data removed]",
      "text/plain": [
       "<Figure size 1224x504 with 1 Axes>"
      ]
     },
     "metadata": {
      "needs_background": "light"
     },
     "output_type": "display_data"
    }
   ],
   "source": [
    "fig,ax1=plt.subplots()\n",
    "fig.set_size_inches(17,7)\n",
    "\n",
    "sns.countplot(data=korea,x='유형',ax=ax1)\n",
    "print(\"한국민족문화대백과사전에는 인물과 관련된 내용이 가장 많았다 17500건으로..\")"
   ]
  },
  {
   "cell_type": "code",
   "execution_count": 16,
   "metadata": {},
   "outputs": [],
   "source": [
    "korea_hero = korea.loc[korea['유형'] == '인물']\n",
    "korea_book = korea.loc[korea['유형'] == '문헌']"
   ]
  },
  {
   "cell_type": "code",
   "execution_count": null,
   "metadata": {},
   "outputs": [],
   "source": []
  }
 ],
 "metadata": {
  "kernelspec": {
   "display_name": "Python 3",
   "language": "python",
   "name": "python3"
  },
  "language_info": {
   "codemirror_mode": {
    "name": "ipython",
    "version": 3
   },
   "file_extension": ".py",
   "mimetype": "text/x-python",
   "name": "python",
   "nbconvert_exporter": "python",
   "pygments_lexer": "ipython3",
   "version": "3.7.4"
  }
 },
 "nbformat": 4,
 "nbformat_minor": 2
}
