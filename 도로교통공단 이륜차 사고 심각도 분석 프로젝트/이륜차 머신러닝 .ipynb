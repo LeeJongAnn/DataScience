{
 "cells": [
  {
   "cell_type": "code",
   "execution_count": 26,
   "metadata": {},
   "outputs": [],
   "source": [
    "import pandas as pd \n",
    "import matplotlib.pyplot as plt \n",
    "import seaborn as sns \n",
    "import numpy as np\n",
    "\n",
    "\n",
    "import warnings\n",
    "warnings.filterwarnings('ignore')\n",
    "from matplotlib import font_manager,rc\n",
    "font_ob = font_manager.FontProperties(fname='C:/Windows/Fonts/NanumBarunpenB.ttf').get_name()\n",
    "rc('font',family=font_ob)\n",
    "\n",
    "sns.set_style('dark')"
   ]
  },
  {
   "cell_type": "code",
   "execution_count": 57,
   "metadata": {},
   "outputs": [],
   "source": [
    "b = pd.read_csv('C:/Users/Lee Jong Ann/Desktop/Machine Learning/CNN/전처리.csv',encoding='cp949')"
   ]
  },
  {
   "cell_type": "code",
   "execution_count": 58,
   "metadata": {},
   "outputs": [
    {
     "data": {
      "text/html": [
       "<div>\n",
       "<style scoped>\n",
       "    .dataframe tbody tr th:only-of-type {\n",
       "        vertical-align: middle;\n",
       "    }\n",
       "\n",
       "    .dataframe tbody tr th {\n",
       "        vertical-align: top;\n",
       "    }\n",
       "\n",
       "    .dataframe thead th {\n",
       "        text-align: right;\n",
       "    }\n",
       "</style>\n",
       "<table border=\"1\" class=\"dataframe\">\n",
       "  <thead>\n",
       "    <tr style=\"text-align: right;\">\n",
       "      <th></th>\n",
       "      <th>사고내용</th>\n",
       "      <th>사망자수</th>\n",
       "      <th>중상자수</th>\n",
       "      <th>경상자수</th>\n",
       "      <th>부상신고자수</th>\n",
       "      <th>년</th>\n",
       "      <th>월</th>\n",
       "      <th>계절</th>\n",
       "      <th>일</th>\n",
       "      <th>시간</th>\n",
       "      <th>...</th>\n",
       "      <th>가해운전자 성별</th>\n",
       "      <th>가해운전자 연령</th>\n",
       "      <th>가해운전자 연령.1</th>\n",
       "      <th>가해운전자 연령2</th>\n",
       "      <th>가해운전자 상해정도</th>\n",
       "      <th>피해운전자 차종</th>\n",
       "      <th>피해운전자 성별</th>\n",
       "      <th>피해운전자 연령</th>\n",
       "      <th>연령대</th>\n",
       "      <th>피해운전자 상해정도</th>\n",
       "    </tr>\n",
       "  </thead>\n",
       "  <tbody>\n",
       "    <tr>\n",
       "      <th>0</th>\n",
       "      <td>중상사고</td>\n",
       "      <td>0</td>\n",
       "      <td>1</td>\n",
       "      <td>0</td>\n",
       "      <td>0</td>\n",
       "      <td>2017년</td>\n",
       "      <td>1</td>\n",
       "      <td>겨울</td>\n",
       "      <td>6일</td>\n",
       "      <td>21</td>\n",
       "      <td>...</td>\n",
       "      <td>남</td>\n",
       "      <td>16세</td>\n",
       "      <td>10대</td>\n",
       "      <td>1-19</td>\n",
       "      <td>중상</td>\n",
       "      <td>승용</td>\n",
       "      <td>남</td>\n",
       "      <td>34세</td>\n",
       "      <td>3</td>\n",
       "      <td>상해없음</td>\n",
       "    </tr>\n",
       "    <tr>\n",
       "      <th>1</th>\n",
       "      <td>사망사고</td>\n",
       "      <td>1</td>\n",
       "      <td>0</td>\n",
       "      <td>0</td>\n",
       "      <td>0</td>\n",
       "      <td>2017년</td>\n",
       "      <td>1</td>\n",
       "      <td>겨울</td>\n",
       "      <td>17일</td>\n",
       "      <td>12</td>\n",
       "      <td>...</td>\n",
       "      <td>남</td>\n",
       "      <td>62세</td>\n",
       "      <td>60대</td>\n",
       "      <td>20-64</td>\n",
       "      <td>사망</td>\n",
       "      <td>미분류</td>\n",
       "      <td>미분류</td>\n",
       "      <td>미분류</td>\n",
       "      <td>4</td>\n",
       "      <td>미분류</td>\n",
       "    </tr>\n",
       "    <tr>\n",
       "      <th>2</th>\n",
       "      <td>경상사고</td>\n",
       "      <td>0</td>\n",
       "      <td>0</td>\n",
       "      <td>1</td>\n",
       "      <td>0</td>\n",
       "      <td>2017년</td>\n",
       "      <td>1</td>\n",
       "      <td>겨울</td>\n",
       "      <td>18일</td>\n",
       "      <td>18</td>\n",
       "      <td>...</td>\n",
       "      <td>남</td>\n",
       "      <td>23세</td>\n",
       "      <td>20대</td>\n",
       "      <td>20-64</td>\n",
       "      <td>상해없음</td>\n",
       "      <td>승용</td>\n",
       "      <td>남</td>\n",
       "      <td>65세</td>\n",
       "      <td>6</td>\n",
       "      <td>상해없음</td>\n",
       "    </tr>\n",
       "    <tr>\n",
       "      <th>3</th>\n",
       "      <td>경상사고</td>\n",
       "      <td>0</td>\n",
       "      <td>0</td>\n",
       "      <td>1</td>\n",
       "      <td>0</td>\n",
       "      <td>2017년</td>\n",
       "      <td>1</td>\n",
       "      <td>겨울</td>\n",
       "      <td>26일</td>\n",
       "      <td>21</td>\n",
       "      <td>...</td>\n",
       "      <td>남</td>\n",
       "      <td>31세</td>\n",
       "      <td>30대</td>\n",
       "      <td>20-64</td>\n",
       "      <td>경상</td>\n",
       "      <td>승용</td>\n",
       "      <td>남</td>\n",
       "      <td>28세</td>\n",
       "      <td>2</td>\n",
       "      <td>상해없음</td>\n",
       "    </tr>\n",
       "    <tr>\n",
       "      <th>4</th>\n",
       "      <td>사망사고</td>\n",
       "      <td>1</td>\n",
       "      <td>0</td>\n",
       "      <td>0</td>\n",
       "      <td>0</td>\n",
       "      <td>2017년</td>\n",
       "      <td>2</td>\n",
       "      <td>겨울</td>\n",
       "      <td>2일</td>\n",
       "      <td>18</td>\n",
       "      <td>...</td>\n",
       "      <td>남</td>\n",
       "      <td>55세</td>\n",
       "      <td>50대</td>\n",
       "      <td>20-64</td>\n",
       "      <td>사망</td>\n",
       "      <td>승합</td>\n",
       "      <td>남</td>\n",
       "      <td>52세</td>\n",
       "      <td>5</td>\n",
       "      <td>상해없음</td>\n",
       "    </tr>\n",
       "  </tbody>\n",
       "</table>\n",
       "<p>5 rows × 34 columns</p>\n",
       "</div>"
      ],
      "text/plain": [
       "   사고내용  사망자수  중상자수  경상자수  부상신고자수      년  월  계절    일  시간  ... 가해운전자 성별  \\\n",
       "0  중상사고     0     1     0       0  2017년  1  겨울   6일  21  ...        남   \n",
       "1  사망사고     1     0     0       0  2017년  1  겨울  17일  12  ...        남   \n",
       "2  경상사고     0     0     1       0  2017년  1  겨울  18일  18  ...        남   \n",
       "3  경상사고     0     0     1       0  2017년  1  겨울  26일  21  ...        남   \n",
       "4  사망사고     1     0     0       0  2017년  2  겨울   2일  18  ...        남   \n",
       "\n",
       "  가해운전자 연령 가해운전자 연령.1 가해운전자 연령2 가해운전자 상해정도 피해운전자 차종 피해운전자 성별 피해운전자 연령 연령대  \\\n",
       "0      16세        10대      1-19         중상       승용        남      34세   3   \n",
       "1      62세        60대     20-64         사망      미분류      미분류      미분류   4   \n",
       "2      23세        20대     20-64       상해없음       승용        남      65세   6   \n",
       "3      31세        30대     20-64         경상       승용        남      28세   2   \n",
       "4      55세        50대     20-64         사망       승합        남      52세   5   \n",
       "\n",
       "  피해운전자 상해정도  \n",
       "0       상해없음  \n",
       "1        미분류  \n",
       "2       상해없음  \n",
       "3       상해없음  \n",
       "4       상해없음  \n",
       "\n",
       "[5 rows x 34 columns]"
      ]
     },
     "execution_count": 58,
     "metadata": {},
     "output_type": "execute_result"
    }
   ],
   "source": [
    "b.head()"
   ]
  },
  {
   "cell_type": "code",
   "execution_count": 59,
   "metadata": {},
   "outputs": [],
   "source": [
    "b = b.drop(['사고유형','가해운전자 연령2','가해운전자 연령','피해운전자 연령','가해운전자 차종','일','사고내용'],axis=1)"
   ]
  },
  {
   "cell_type": "code",
   "execution_count": 60,
   "metadata": {},
   "outputs": [],
   "source": [
    "b = b.rename({'가해운전자 연령.1':'가해운전자 연령대'},axis='columns')"
   ]
  },
  {
   "cell_type": "code",
   "execution_count": 68,
   "metadata": {},
   "outputs": [
    {
     "data": {
      "text/plain": [
       "Index(['사망자수', '중상자수', '경상자수', '부상신고자수', '년', '월', '계절', '시간', '시간대', '요일',\n",
       "       '주중주말', '구', '시군', '법정동', '사고타입', '사고타입2', '법규위반', '노면상태', '기상상태',\n",
       "       '도로형태', '가해운전자 성별', '가해운전자 연령대', '가해운전자 상해정도', '피해운전자 차종', '피해운전자 성별',\n",
       "       '연령대', '피해운전자 상해정도'],\n",
       "      dtype='object')"
      ]
     },
     "execution_count": 68,
     "metadata": {},
     "output_type": "execute_result"
    }
   ],
   "source": [
    "b.keys()"
   ]
  },
  {
   "cell_type": "code",
   "execution_count": 157,
   "metadata": {},
   "outputs": [
    {
     "data": {
      "text/html": [
       "<div>\n",
       "<style scoped>\n",
       "    .dataframe tbody tr th:only-of-type {\n",
       "        vertical-align: middle;\n",
       "    }\n",
       "\n",
       "    .dataframe tbody tr th {\n",
       "        vertical-align: top;\n",
       "    }\n",
       "\n",
       "    .dataframe thead th {\n",
       "        text-align: right;\n",
       "    }\n",
       "</style>\n",
       "<table border=\"1\" class=\"dataframe\">\n",
       "  <thead>\n",
       "    <tr style=\"text-align: right;\">\n",
       "      <th></th>\n",
       "      <th>사망자수</th>\n",
       "      <th>시간대</th>\n",
       "      <th>연령대</th>\n",
       "      <th>계절</th>\n",
       "      <th>가해운전자 상해정도</th>\n",
       "      <th>피해운전자 성별</th>\n",
       "      <th>피해운전자 상해정도</th>\n",
       "      <th>피해운전자 차종</th>\n",
       "    </tr>\n",
       "  </thead>\n",
       "  <tbody>\n",
       "    <tr>\n",
       "      <th>0</th>\n",
       "      <td>0</td>\n",
       "      <td>18-23PM</td>\n",
       "      <td>3</td>\n",
       "      <td>겨울</td>\n",
       "      <td>2</td>\n",
       "      <td>남</td>\n",
       "      <td>상해없음</td>\n",
       "      <td>승용</td>\n",
       "    </tr>\n",
       "    <tr>\n",
       "      <th>1</th>\n",
       "      <td>1</td>\n",
       "      <td>12-17PM</td>\n",
       "      <td>4</td>\n",
       "      <td>겨울</td>\n",
       "      <td>4</td>\n",
       "      <td>미분류</td>\n",
       "      <td>미분류</td>\n",
       "      <td>미분류</td>\n",
       "    </tr>\n",
       "    <tr>\n",
       "      <th>2</th>\n",
       "      <td>0</td>\n",
       "      <td>18-23PM</td>\n",
       "      <td>6</td>\n",
       "      <td>겨울</td>\n",
       "      <td>0</td>\n",
       "      <td>남</td>\n",
       "      <td>상해없음</td>\n",
       "      <td>승용</td>\n",
       "    </tr>\n",
       "    <tr>\n",
       "      <th>3</th>\n",
       "      <td>0</td>\n",
       "      <td>18-23PM</td>\n",
       "      <td>2</td>\n",
       "      <td>겨울</td>\n",
       "      <td>1</td>\n",
       "      <td>남</td>\n",
       "      <td>상해없음</td>\n",
       "      <td>승용</td>\n",
       "    </tr>\n",
       "    <tr>\n",
       "      <th>4</th>\n",
       "      <td>1</td>\n",
       "      <td>18-23PM</td>\n",
       "      <td>5</td>\n",
       "      <td>겨울</td>\n",
       "      <td>4</td>\n",
       "      <td>남</td>\n",
       "      <td>상해없음</td>\n",
       "      <td>승합</td>\n",
       "    </tr>\n",
       "  </tbody>\n",
       "</table>\n",
       "</div>"
      ],
      "text/plain": [
       "   사망자수      시간대  연령대  계절  가해운전자 상해정도 피해운전자 성별 피해운전자 상해정도 피해운전자 차종\n",
       "0     0  18-23PM    3  겨울           2        남       상해없음       승용\n",
       "1     1  12-17PM    4  겨울           4      미분류        미분류      미분류\n",
       "2     0  18-23PM    6  겨울           0        남       상해없음       승용\n",
       "3     0  18-23PM    2  겨울           1        남       상해없음       승용\n",
       "4     1  18-23PM    5  겨울           4        남       상해없음       승합"
      ]
     },
     "execution_count": 157,
     "metadata": {},
     "output_type": "execute_result"
    }
   ],
   "source": [
    "extract = b[['사망자수','시간대','연령대','계절','가해운전자 상해정도','피해운전자 성별','피해운전자 상해정도','피해운전자 차종']]\n",
    "extract.head()"
   ]
  },
  {
   "cell_type": "code",
   "execution_count": 158,
   "metadata": {},
   "outputs": [],
   "source": [
    "extract_dummy = pd.get_dummies(extract['계절'])\n",
    "extract = extract.join(extract_dummy)\n",
    "\n",
    "# c =  extract_dummy.to_csv('더미테스트.csv',encoding='cp949',index=False)"
   ]
  },
  {
   "cell_type": "code",
   "execution_count": 159,
   "metadata": {
    "scrolled": true
   },
   "outputs": [
    {
     "data": {
      "text/html": [
       "<div>\n",
       "<style scoped>\n",
       "    .dataframe tbody tr th:only-of-type {\n",
       "        vertical-align: middle;\n",
       "    }\n",
       "\n",
       "    .dataframe tbody tr th {\n",
       "        vertical-align: top;\n",
       "    }\n",
       "\n",
       "    .dataframe thead th {\n",
       "        text-align: right;\n",
       "    }\n",
       "</style>\n",
       "<table border=\"1\" class=\"dataframe\">\n",
       "  <thead>\n",
       "    <tr style=\"text-align: right;\">\n",
       "      <th></th>\n",
       "      <th>사망자수</th>\n",
       "      <th>시간대</th>\n",
       "      <th>연령대</th>\n",
       "      <th>계절</th>\n",
       "      <th>가해운전자 상해정도</th>\n",
       "      <th>피해운전자 성별</th>\n",
       "      <th>피해운전자 상해정도</th>\n",
       "      <th>피해운전자 차종</th>\n",
       "      <th>가을</th>\n",
       "      <th>겨울</th>\n",
       "      <th>봄</th>\n",
       "      <th>여름</th>\n",
       "    </tr>\n",
       "  </thead>\n",
       "  <tbody>\n",
       "    <tr>\n",
       "      <th>0</th>\n",
       "      <td>0</td>\n",
       "      <td>18-23PM</td>\n",
       "      <td>3</td>\n",
       "      <td>겨울</td>\n",
       "      <td>2</td>\n",
       "      <td>남</td>\n",
       "      <td>상해없음</td>\n",
       "      <td>승용</td>\n",
       "      <td>0</td>\n",
       "      <td>1</td>\n",
       "      <td>0</td>\n",
       "      <td>0</td>\n",
       "    </tr>\n",
       "    <tr>\n",
       "      <th>1</th>\n",
       "      <td>1</td>\n",
       "      <td>12-17PM</td>\n",
       "      <td>4</td>\n",
       "      <td>겨울</td>\n",
       "      <td>4</td>\n",
       "      <td>미분류</td>\n",
       "      <td>미분류</td>\n",
       "      <td>미분류</td>\n",
       "      <td>0</td>\n",
       "      <td>1</td>\n",
       "      <td>0</td>\n",
       "      <td>0</td>\n",
       "    </tr>\n",
       "    <tr>\n",
       "      <th>2</th>\n",
       "      <td>0</td>\n",
       "      <td>18-23PM</td>\n",
       "      <td>6</td>\n",
       "      <td>겨울</td>\n",
       "      <td>0</td>\n",
       "      <td>남</td>\n",
       "      <td>상해없음</td>\n",
       "      <td>승용</td>\n",
       "      <td>0</td>\n",
       "      <td>1</td>\n",
       "      <td>0</td>\n",
       "      <td>0</td>\n",
       "    </tr>\n",
       "    <tr>\n",
       "      <th>3</th>\n",
       "      <td>0</td>\n",
       "      <td>18-23PM</td>\n",
       "      <td>2</td>\n",
       "      <td>겨울</td>\n",
       "      <td>1</td>\n",
       "      <td>남</td>\n",
       "      <td>상해없음</td>\n",
       "      <td>승용</td>\n",
       "      <td>0</td>\n",
       "      <td>1</td>\n",
       "      <td>0</td>\n",
       "      <td>0</td>\n",
       "    </tr>\n",
       "    <tr>\n",
       "      <th>4</th>\n",
       "      <td>1</td>\n",
       "      <td>18-23PM</td>\n",
       "      <td>5</td>\n",
       "      <td>겨울</td>\n",
       "      <td>4</td>\n",
       "      <td>남</td>\n",
       "      <td>상해없음</td>\n",
       "      <td>승합</td>\n",
       "      <td>0</td>\n",
       "      <td>1</td>\n",
       "      <td>0</td>\n",
       "      <td>0</td>\n",
       "    </tr>\n",
       "  </tbody>\n",
       "</table>\n",
       "</div>"
      ],
      "text/plain": [
       "   사망자수      시간대  연령대  계절  가해운전자 상해정도 피해운전자 성별 피해운전자 상해정도 피해운전자 차종  가을  겨울  봄  \\\n",
       "0     0  18-23PM    3  겨울           2        남       상해없음       승용   0   1  0   \n",
       "1     1  12-17PM    4  겨울           4      미분류        미분류      미분류   0   1  0   \n",
       "2     0  18-23PM    6  겨울           0        남       상해없음       승용   0   1  0   \n",
       "3     0  18-23PM    2  겨울           1        남       상해없음       승용   0   1  0   \n",
       "4     1  18-23PM    5  겨울           4        남       상해없음       승합   0   1  0   \n",
       "\n",
       "   여름  \n",
       "0   0  \n",
       "1   0  \n",
       "2   0  \n",
       "3   0  \n",
       "4   0  "
      ]
     },
     "execution_count": 159,
     "metadata": {},
     "output_type": "execute_result"
    }
   ],
   "source": [
    "extract.head()"
   ]
  },
  {
   "cell_type": "code",
   "execution_count": 160,
   "metadata": {},
   "outputs": [
    {
     "data": {
      "text/html": [
       "<div>\n",
       "<style scoped>\n",
       "    .dataframe tbody tr th:only-of-type {\n",
       "        vertical-align: middle;\n",
       "    }\n",
       "\n",
       "    .dataframe tbody tr th {\n",
       "        vertical-align: top;\n",
       "    }\n",
       "\n",
       "    .dataframe thead th {\n",
       "        text-align: right;\n",
       "    }\n",
       "</style>\n",
       "<table border=\"1\" class=\"dataframe\">\n",
       "  <thead>\n",
       "    <tr style=\"text-align: right;\">\n",
       "      <th></th>\n",
       "      <th>사망자수</th>\n",
       "      <th>연령대</th>\n",
       "      <th>가해운전자 상해정도</th>\n",
       "      <th>가을</th>\n",
       "      <th>겨울</th>\n",
       "      <th>봄</th>\n",
       "      <th>여름</th>\n",
       "    </tr>\n",
       "  </thead>\n",
       "  <tbody>\n",
       "    <tr>\n",
       "      <th>사망자수</th>\n",
       "      <td>1.000000</td>\n",
       "      <td>0.019662</td>\n",
       "      <td>0.631849</td>\n",
       "      <td>0.009154</td>\n",
       "      <td>-0.051042</td>\n",
       "      <td>0.018500</td>\n",
       "      <td>0.009287</td>\n",
       "    </tr>\n",
       "    <tr>\n",
       "      <th>연령대</th>\n",
       "      <td>0.019662</td>\n",
       "      <td>1.000000</td>\n",
       "      <td>0.031184</td>\n",
       "      <td>-0.035014</td>\n",
       "      <td>0.036796</td>\n",
       "      <td>0.062736</td>\n",
       "      <td>-0.051835</td>\n",
       "    </tr>\n",
       "    <tr>\n",
       "      <th>가해운전자 상해정도</th>\n",
       "      <td>0.631849</td>\n",
       "      <td>0.031184</td>\n",
       "      <td>1.000000</td>\n",
       "      <td>-0.020861</td>\n",
       "      <td>-0.041987</td>\n",
       "      <td>0.029031</td>\n",
       "      <td>0.022007</td>\n",
       "    </tr>\n",
       "    <tr>\n",
       "      <th>가을</th>\n",
       "      <td>0.009154</td>\n",
       "      <td>-0.035014</td>\n",
       "      <td>-0.020861</td>\n",
       "      <td>1.000000</td>\n",
       "      <td>-0.236556</td>\n",
       "      <td>-0.388596</td>\n",
       "      <td>-0.433497</td>\n",
       "    </tr>\n",
       "    <tr>\n",
       "      <th>겨울</th>\n",
       "      <td>-0.051042</td>\n",
       "      <td>0.036796</td>\n",
       "      <td>-0.041987</td>\n",
       "      <td>-0.236556</td>\n",
       "      <td>1.000000</td>\n",
       "      <td>-0.228280</td>\n",
       "      <td>-0.254657</td>\n",
       "    </tr>\n",
       "    <tr>\n",
       "      <th>봄</th>\n",
       "      <td>0.018500</td>\n",
       "      <td>0.062736</td>\n",
       "      <td>0.029031</td>\n",
       "      <td>-0.388596</td>\n",
       "      <td>-0.228280</td>\n",
       "      <td>1.000000</td>\n",
       "      <td>-0.418330</td>\n",
       "    </tr>\n",
       "    <tr>\n",
       "      <th>여름</th>\n",
       "      <td>0.009287</td>\n",
       "      <td>-0.051835</td>\n",
       "      <td>0.022007</td>\n",
       "      <td>-0.433497</td>\n",
       "      <td>-0.254657</td>\n",
       "      <td>-0.418330</td>\n",
       "      <td>1.000000</td>\n",
       "    </tr>\n",
       "  </tbody>\n",
       "</table>\n",
       "</div>"
      ],
      "text/plain": [
       "                사망자수       연령대  가해운전자 상해정도        가을        겨울         봄  \\\n",
       "사망자수        1.000000  0.019662    0.631849  0.009154 -0.051042  0.018500   \n",
       "연령대         0.019662  1.000000    0.031184 -0.035014  0.036796  0.062736   \n",
       "가해운전자 상해정도  0.631849  0.031184    1.000000 -0.020861 -0.041987  0.029031   \n",
       "가을          0.009154 -0.035014   -0.020861  1.000000 -0.236556 -0.388596   \n",
       "겨울         -0.051042  0.036796   -0.041987 -0.236556  1.000000 -0.228280   \n",
       "봄           0.018500  0.062736    0.029031 -0.388596 -0.228280  1.000000   \n",
       "여름          0.009287 -0.051835    0.022007 -0.433497 -0.254657 -0.418330   \n",
       "\n",
       "                  여름  \n",
       "사망자수        0.009287  \n",
       "연령대        -0.051835  \n",
       "가해운전자 상해정도  0.022007  \n",
       "가을         -0.433497  \n",
       "겨울         -0.254657  \n",
       "봄          -0.418330  \n",
       "여름          1.000000  "
      ]
     },
     "execution_count": 160,
     "metadata": {},
     "output_type": "execute_result"
    }
   ],
   "source": [
    "extract.corr(method='pearson')"
   ]
  },
  {
   "cell_type": "code",
   "execution_count": 134,
   "metadata": {},
   "outputs": [
    {
     "data": {
      "text/plain": [
       "<matplotlib.axes._subplots.AxesSubplot at 0x1b3109d8b70>"
      ]
     },
     "execution_count": 134,
     "metadata": {},
     "output_type": "execute_result"
    },
    {
     "data": {
      "image/png": "[encoded data removed]",
      "text/plain": [
       "<Figure size 720x360 with 2 Axes>"
      ]
     },
     "metadata": {},
     "output_type": "display_data"
    },
    {
     "data": {
      "image/png": "[encoded data removed]",
      "text/plain": [
       "<Figure size 720x360 with 2 Axes>"
      ]
     },
     "metadata": {},
     "output_type": "display_data"
    }
   ],
   "source": [
    "fig,(ax1,ax2)= plt.subplots(1,2)\n",
    "fig.set_size_inches(10,5)\n",
    "\n",
    "sns.countplot(data=extract_dummy,x=extract_dummy['봄'],ax=ax1)\n",
    "sns.countplot(data=extract_dummy,x=extract_dummy['여름'],ax=ax2)\n",
    "\n",
    "fig,(ax3,ax4)= plt.subplots(1,2)\n",
    "fig.set_size_inches(10,5)\n",
    "\n",
    "sns.countplot(data=extract_dummy,x=extract_dummy['가을'],ax=ax3)\n",
    "sns.countplot(data=extract_dummy,x=extract_dummy['겨울'],ax=ax4)"
   ]
  },
  {
   "cell_type": "code",
   "execution_count": 75,
   "metadata": {},
   "outputs": [
    {
     "data": {
      "text/plain": [
       "상해없음    382\n",
       "경상      160\n",
       "중상      144\n",
       "부상신고     69\n",
       "사망       61\n",
       "기타불명     20\n",
       "Name: 가해운전자 상해정도, dtype: int64"
      ]
     },
     "execution_count": 75,
     "metadata": {},
     "output_type": "execute_result"
    }
   ],
   "source": [
    "b['가해운전자 상해정도'].value_counts()"
   ]
  },
  {
   "cell_type": "code",
   "execution_count": 76,
   "metadata": {},
   "outputs": [],
   "source": [
    "b['가해운전자 상해정도'] = b['가해운전자 상해정도'].replace({'상해없음': 0,'경상':1,'중상':2,'부상신고':3,'사망':4,'기타불명':0})"
   ]
  },
  {
   "cell_type": "code",
   "execution_count": 184,
   "metadata": {},
   "outputs": [
    {
     "name": "stdout",
     "output_type": "stream",
     "text": [
      "가해운전자 상해정도\n",
      "상해없음 = 0\n",
      "경상 = 1\n",
      "중상 = 2\n",
      "부상신고 = 3\n",
      "사망 = 4\n",
      "\n"
     ]
    }
   ],
   "source": [
    "print('가해운전자 상해정도')\n",
    "print('상해없음 = 0' + '\\n' + '경상 = 1' +'\\n'+ '중상 = 2' + '\\n' + '부상신고 = 3' +'\\n' +'사망 = 4' + '\\n')"
   ]
  },
  {
   "cell_type": "code",
   "execution_count": 105,
   "metadata": {},
   "outputs": [
    {
     "data": {
      "text/plain": [
       "Text(0.5, 1.0, '강원도 이륜차 가해운전자 상해정도')"
      ]
     },
     "execution_count": 105,
     "metadata": {},
     "output_type": "execute_result"
    },
    {
     "data": {
      "image/png": "[encoded data removed]",
      "text/plain": [
       "<Figure size 1080x720 with 1 Axes>"
      ]
     },
     "metadata": {},
     "output_type": "display_data"
    }
   ],
   "source": [
    "label = ['상해없음','경상','중상','부상신고','사망']\n",
    "range = [382,160,144,69,61]\n",
    "wedgeprops={'width': 0.7, 'edgecolor': 'w', 'linewidth': 5}\n",
    "explode = (0.1,0.1,0.1,0.1,0.3)\n",
    "plt.figure(figsize=(15,10))\n",
    "plt.pie(range,\n",
    "    labels=label,\n",
    "    shadow=True,\n",
    "    wedgeprops=wedgeprops,\n",
    "    startangle=30,\n",
    "    autopct='%.1f%%',\n",
    "    explode = explode\n",
    "    )\n",
    "plt.title('강원도 이륜차 가해운전자 상해정도')\n"
   ]
  },
  {
   "cell_type": "code",
   "execution_count": 74,
   "metadata": {},
   "outputs": [
    {
     "data": {
      "text/html": [
       "<div>\n",
       "<style scoped>\n",
       "    .dataframe tbody tr th:only-of-type {\n",
       "        vertical-align: middle;\n",
       "    }\n",
       "\n",
       "    .dataframe tbody tr th {\n",
       "        vertical-align: top;\n",
       "    }\n",
       "\n",
       "    .dataframe thead th {\n",
       "        text-align: right;\n",
       "    }\n",
       "</style>\n",
       "<table border=\"1\" class=\"dataframe\">\n",
       "  <thead>\n",
       "    <tr style=\"text-align: right;\">\n",
       "      <th></th>\n",
       "      <th>사망자수</th>\n",
       "      <th>연령대</th>\n",
       "    </tr>\n",
       "  </thead>\n",
       "  <tbody>\n",
       "    <tr>\n",
       "      <th>사망자수</th>\n",
       "      <td>1.000000</td>\n",
       "      <td>0.019662</td>\n",
       "    </tr>\n",
       "    <tr>\n",
       "      <th>연령대</th>\n",
       "      <td>0.019662</td>\n",
       "      <td>1.000000</td>\n",
       "    </tr>\n",
       "  </tbody>\n",
       "</table>\n",
       "</div>"
      ],
      "text/plain": [
       "          사망자수       연령대\n",
       "사망자수  1.000000  0.019662\n",
       "연령대   0.019662  1.000000"
      ]
     },
     "execution_count": 74,
     "metadata": {},
     "output_type": "execute_result"
    }
   ],
   "source": [
    "extract.corr(method='pearson')"
   ]
  },
  {
   "cell_type": "code",
   "execution_count": 55,
   "metadata": {
    "scrolled": true
   },
   "outputs": [
    {
     "data": {
      "image/png": "[encoded data removed]",
      "text/plain": [
       "<Figure size 720x360 with 1 Axes>"
      ]
     },
     "metadata": {},
     "output_type": "display_data"
    }
   ],
   "source": [
    "fig,ax = plt.subplots()\n",
    "fig.set_size_inches(10,5)\n",
    "\n",
    "sns.countplot(data=b,x='시군')\n",
    "plt.xlabel('가해운전자 수')\n",
    "plt.rc('font',family=font_ob)"
   ]
  },
  {
   "cell_type": "code",
   "execution_count": 166,
   "metadata": {},
   "outputs": [],
   "source": [
    "extract['피해운전자 성별'] = extract['피해운전자 성별'].replace({'남' : 0,'여':'1','미분류':0})  "
   ]
  },
  {
   "cell_type": "code",
   "execution_count": 168,
   "metadata": {},
   "outputs": [
    {
     "data": {
      "text/html": [
       "<div>\n",
       "<style scoped>\n",
       "    .dataframe tbody tr th:only-of-type {\n",
       "        vertical-align: middle;\n",
       "    }\n",
       "\n",
       "    .dataframe tbody tr th {\n",
       "        vertical-align: top;\n",
       "    }\n",
       "\n",
       "    .dataframe thead th {\n",
       "        text-align: right;\n",
       "    }\n",
       "</style>\n",
       "<table border=\"1\" class=\"dataframe\">\n",
       "  <thead>\n",
       "    <tr style=\"text-align: right;\">\n",
       "      <th></th>\n",
       "      <th>사망자수</th>\n",
       "      <th>시간대</th>\n",
       "      <th>연령대</th>\n",
       "      <th>계절</th>\n",
       "      <th>가해운전자 상해정도</th>\n",
       "      <th>피해운전자 성별</th>\n",
       "      <th>피해운전자 상해정도</th>\n",
       "      <th>피해운전자 차종</th>\n",
       "      <th>가을</th>\n",
       "      <th>겨울</th>\n",
       "      <th>봄</th>\n",
       "      <th>여름</th>\n",
       "    </tr>\n",
       "  </thead>\n",
       "  <tbody>\n",
       "    <tr>\n",
       "      <th>0</th>\n",
       "      <td>0</td>\n",
       "      <td>18-23PM</td>\n",
       "      <td>3</td>\n",
       "      <td>겨울</td>\n",
       "      <td>2</td>\n",
       "      <td>0</td>\n",
       "      <td>상해없음</td>\n",
       "      <td>승용</td>\n",
       "      <td>0</td>\n",
       "      <td>1</td>\n",
       "      <td>0</td>\n",
       "      <td>0</td>\n",
       "    </tr>\n",
       "    <tr>\n",
       "      <th>1</th>\n",
       "      <td>1</td>\n",
       "      <td>12-17PM</td>\n",
       "      <td>4</td>\n",
       "      <td>겨울</td>\n",
       "      <td>4</td>\n",
       "      <td>0</td>\n",
       "      <td>미분류</td>\n",
       "      <td>미분류</td>\n",
       "      <td>0</td>\n",
       "      <td>1</td>\n",
       "      <td>0</td>\n",
       "      <td>0</td>\n",
       "    </tr>\n",
       "    <tr>\n",
       "      <th>2</th>\n",
       "      <td>0</td>\n",
       "      <td>18-23PM</td>\n",
       "      <td>6</td>\n",
       "      <td>겨울</td>\n",
       "      <td>0</td>\n",
       "      <td>0</td>\n",
       "      <td>상해없음</td>\n",
       "      <td>승용</td>\n",
       "      <td>0</td>\n",
       "      <td>1</td>\n",
       "      <td>0</td>\n",
       "      <td>0</td>\n",
       "    </tr>\n",
       "    <tr>\n",
       "      <th>3</th>\n",
       "      <td>0</td>\n",
       "      <td>18-23PM</td>\n",
       "      <td>2</td>\n",
       "      <td>겨울</td>\n",
       "      <td>1</td>\n",
       "      <td>0</td>\n",
       "      <td>상해없음</td>\n",
       "      <td>승용</td>\n",
       "      <td>0</td>\n",
       "      <td>1</td>\n",
       "      <td>0</td>\n",
       "      <td>0</td>\n",
       "    </tr>\n",
       "    <tr>\n",
       "      <th>4</th>\n",
       "      <td>1</td>\n",
       "      <td>18-23PM</td>\n",
       "      <td>5</td>\n",
       "      <td>겨울</td>\n",
       "      <td>4</td>\n",
       "      <td>0</td>\n",
       "      <td>상해없음</td>\n",
       "      <td>승합</td>\n",
       "      <td>0</td>\n",
       "      <td>1</td>\n",
       "      <td>0</td>\n",
       "      <td>0</td>\n",
       "    </tr>\n",
       "    <tr>\n",
       "      <th>...</th>\n",
       "      <td>...</td>\n",
       "      <td>...</td>\n",
       "      <td>...</td>\n",
       "      <td>...</td>\n",
       "      <td>...</td>\n",
       "      <td>...</td>\n",
       "      <td>...</td>\n",
       "      <td>...</td>\n",
       "      <td>...</td>\n",
       "      <td>...</td>\n",
       "      <td>...</td>\n",
       "      <td>...</td>\n",
       "    </tr>\n",
       "    <tr>\n",
       "      <th>831</th>\n",
       "      <td>0</td>\n",
       "      <td>18-23PM</td>\n",
       "      <td>4</td>\n",
       "      <td>겨울</td>\n",
       "      <td>0</td>\n",
       "      <td>0</td>\n",
       "      <td>상해없음</td>\n",
       "      <td>승용</td>\n",
       "      <td>0</td>\n",
       "      <td>1</td>\n",
       "      <td>0</td>\n",
       "      <td>0</td>\n",
       "    </tr>\n",
       "    <tr>\n",
       "      <th>832</th>\n",
       "      <td>0</td>\n",
       "      <td>12-17PM</td>\n",
       "      <td>7</td>\n",
       "      <td>겨울</td>\n",
       "      <td>0</td>\n",
       "      <td>1</td>\n",
       "      <td>중상</td>\n",
       "      <td>이륜</td>\n",
       "      <td>0</td>\n",
       "      <td>1</td>\n",
       "      <td>0</td>\n",
       "      <td>0</td>\n",
       "    </tr>\n",
       "    <tr>\n",
       "      <th>833</th>\n",
       "      <td>0</td>\n",
       "      <td>12-17PM</td>\n",
       "      <td>2</td>\n",
       "      <td>겨울</td>\n",
       "      <td>0</td>\n",
       "      <td>1</td>\n",
       "      <td>경상</td>\n",
       "      <td>보행자</td>\n",
       "      <td>0</td>\n",
       "      <td>1</td>\n",
       "      <td>0</td>\n",
       "      <td>0</td>\n",
       "    </tr>\n",
       "    <tr>\n",
       "      <th>834</th>\n",
       "      <td>0</td>\n",
       "      <td>6-11AM</td>\n",
       "      <td>2</td>\n",
       "      <td>겨울</td>\n",
       "      <td>2</td>\n",
       "      <td>0</td>\n",
       "      <td>상해없음</td>\n",
       "      <td>승용</td>\n",
       "      <td>0</td>\n",
       "      <td>1</td>\n",
       "      <td>0</td>\n",
       "      <td>0</td>\n",
       "    </tr>\n",
       "    <tr>\n",
       "      <th>835</th>\n",
       "      <td>0</td>\n",
       "      <td>18-23PM</td>\n",
       "      <td>6</td>\n",
       "      <td>겨울</td>\n",
       "      <td>2</td>\n",
       "      <td>0</td>\n",
       "      <td>상해없음</td>\n",
       "      <td>승용</td>\n",
       "      <td>0</td>\n",
       "      <td>1</td>\n",
       "      <td>0</td>\n",
       "      <td>0</td>\n",
       "    </tr>\n",
       "  </tbody>\n",
       "</table>\n",
       "<p>836 rows × 12 columns</p>\n",
       "</div>"
      ],
      "text/plain": [
       "     사망자수      시간대  연령대  계절  가해운전자 상해정도 피해운전자 성별 피해운전자 상해정도 피해운전자 차종  가을  겨울  \\\n",
       "0       0  18-23PM    3  겨울           2        0       상해없음       승용   0   1   \n",
       "1       1  12-17PM    4  겨울           4        0        미분류      미분류   0   1   \n",
       "2       0  18-23PM    6  겨울           0        0       상해없음       승용   0   1   \n",
       "3       0  18-23PM    2  겨울           1        0       상해없음       승용   0   1   \n",
       "4       1  18-23PM    5  겨울           4        0       상해없음       승합   0   1   \n",
       "..    ...      ...  ...  ..         ...      ...        ...      ...  ..  ..   \n",
       "831     0  18-23PM    4  겨울           0        0       상해없음       승용   0   1   \n",
       "832     0  12-17PM    7  겨울           0        1         중상       이륜   0   1   \n",
       "833     0  12-17PM    2  겨울           0        1         경상      보행자   0   1   \n",
       "834     0   6-11AM    2  겨울           2        0       상해없음       승용   0   1   \n",
       "835     0  18-23PM    6  겨울           2        0       상해없음       승용   0   1   \n",
       "\n",
       "     봄  여름  \n",
       "0    0   0  \n",
       "1    0   0  \n",
       "2    0   0  \n",
       "3    0   0  \n",
       "4    0   0  \n",
       "..  ..  ..  \n",
       "831  0   0  \n",
       "832  0   0  \n",
       "833  0   0  \n",
       "834  0   0  \n",
       "835  0   0  \n",
       "\n",
       "[836 rows x 12 columns]"
      ]
     },
     "execution_count": 168,
     "metadata": {},
     "output_type": "execute_result"
    }
   ],
   "source": [
    "extract"
   ]
  },
  {
   "cell_type": "code",
   "execution_count": 161,
   "metadata": {},
   "outputs": [],
   "source": [
    "from sklearn.ensemble import RandomForestClassifier\n",
    "rfmodel = RandomForestClassifier(n_estimators=5,random_state=2)"
   ]
  },
  {
   "cell_type": "code",
   "execution_count": 175,
   "metadata": {},
   "outputs": [],
   "source": [
    "crash = extract[['가을','겨울','봄','여름','가해운전자 상해정도','피해운전자 성별']] \n",
    "dead = extract[['사망자수']]"
   ]
  },
  {
   "cell_type": "code",
   "execution_count": 181,
   "metadata": {},
   "outputs": [
    {
     "data": {
      "text/plain": [
       "<matplotlib.axes._subplots.AxesSubplot at 0x1b316b02160>"
      ]
     },
     "execution_count": 181,
     "metadata": {},
     "output_type": "execute_result"
    },
    {
     "data": {
      "image/png": "[encoded data removed]",
      "text/plain": [
       "<Figure size 1080x360 with 2 Axes>"
      ]
     },
     "metadata": {},
     "output_type": "display_data"
    }
   ],
   "source": [
    "import missingno \n",
    "missingno.matrix(crash,figsize=(15,5))"
   ]
  },
  {
   "cell_type": "code",
   "execution_count": 185,
   "metadata": {},
   "outputs": [
    {
     "ename": "ValueError",
     "evalue": "Input contains NaN, infinity or a value too large for dtype('float32').",
     "output_type": "error",
     "traceback": [
      "\u001b[1;31m---------------------------------------------------------------------------\u001b[0m",
      "\u001b[1;31mValueError\u001b[0m                                Traceback (most recent call last)",
      "\u001b[1;32m<ipython-input-185-20c094b1dbe8>\u001b[0m in \u001b[0;36m<module>\u001b[1;34m\u001b[0m\n\u001b[0;32m      2\u001b[0m \u001b[1;33m\u001b[0m\u001b[0m\n\u001b[0;32m      3\u001b[0m \u001b[0mx_train\u001b[0m\u001b[1;33m,\u001b[0m\u001b[0mx_test\u001b[0m\u001b[1;33m,\u001b[0m\u001b[0my_train\u001b[0m\u001b[1;33m,\u001b[0m\u001b[0my_test\u001b[0m \u001b[1;33m=\u001b[0m \u001b[0mtrain_test_split\u001b[0m\u001b[1;33m(\u001b[0m\u001b[0mcrash\u001b[0m\u001b[1;33m,\u001b[0m\u001b[0mdead\u001b[0m\u001b[1;33m,\u001b[0m\u001b[0mrandom_state\u001b[0m\u001b[1;33m=\u001b[0m\u001b[1;36m0\u001b[0m\u001b[1;33m)\u001b[0m\u001b[1;33m\u001b[0m\u001b[1;33m\u001b[0m\u001b[0m\n\u001b[1;32m----> 4\u001b[1;33m \u001b[0mrfmodel\u001b[0m\u001b[1;33m.\u001b[0m\u001b[0mfit\u001b[0m\u001b[1;33m(\u001b[0m\u001b[0mx_train\u001b[0m\u001b[1;33m,\u001b[0m\u001b[0my_train\u001b[0m\u001b[1;33m)\u001b[0m\u001b[1;33m\u001b[0m\u001b[1;33m\u001b[0m\u001b[0m\n\u001b[0m\u001b[0;32m      5\u001b[0m \u001b[1;31m# rfmodel.predict([[4,0]])\u001b[0m\u001b[1;33m\u001b[0m\u001b[1;33m\u001b[0m\u001b[1;33m\u001b[0m\u001b[0m\n\u001b[0;32m      6\u001b[0m \u001b[1;33m\u001b[0m\u001b[0m\n",
      "\u001b[1;32m~\\anaconda3\\envs\\Tensorflow2.2\\lib\\site-packages\\sklearn\\ensemble\\_forest.py\u001b[0m in \u001b[0;36mfit\u001b[1;34m(self, X, y, sample_weight)\u001b[0m\n\u001b[0;32m    302\u001b[0m             )\n\u001b[0;32m    303\u001b[0m         X, y = self._validate_data(X, y, multi_output=True,\n\u001b[1;32m--> 304\u001b[1;33m                                    accept_sparse=\"csc\", dtype=DTYPE)\n\u001b[0m\u001b[0;32m    305\u001b[0m         \u001b[1;32mif\u001b[0m \u001b[0msample_weight\u001b[0m \u001b[1;32mis\u001b[0m \u001b[1;32mnot\u001b[0m \u001b[1;32mNone\u001b[0m\u001b[1;33m:\u001b[0m\u001b[1;33m\u001b[0m\u001b[1;33m\u001b[0m\u001b[0m\n\u001b[0;32m    306\u001b[0m             \u001b[0msample_weight\u001b[0m \u001b[1;33m=\u001b[0m \u001b[0m_check_sample_weight\u001b[0m\u001b[1;33m(\u001b[0m\u001b[0msample_weight\u001b[0m\u001b[1;33m,\u001b[0m \u001b[0mX\u001b[0m\u001b[1;33m)\u001b[0m\u001b[1;33m\u001b[0m\u001b[1;33m\u001b[0m\u001b[0m\n",
      "\u001b[1;32m~\\anaconda3\\envs\\Tensorflow2.2\\lib\\site-packages\\sklearn\\base.py\u001b[0m in \u001b[0;36m_validate_data\u001b[1;34m(self, X, y, reset, validate_separately, **check_params)\u001b[0m\n\u001b[0;32m    430\u001b[0m                 \u001b[0my\u001b[0m \u001b[1;33m=\u001b[0m \u001b[0mcheck_array\u001b[0m\u001b[1;33m(\u001b[0m\u001b[0my\u001b[0m\u001b[1;33m,\u001b[0m \u001b[1;33m**\u001b[0m\u001b[0mcheck_y_params\u001b[0m\u001b[1;33m)\u001b[0m\u001b[1;33m\u001b[0m\u001b[1;33m\u001b[0m\u001b[0m\n\u001b[0;32m    431\u001b[0m             \u001b[1;32melse\u001b[0m\u001b[1;33m:\u001b[0m\u001b[1;33m\u001b[0m\u001b[1;33m\u001b[0m\u001b[0m\n\u001b[1;32m--> 432\u001b[1;33m                 \u001b[0mX\u001b[0m\u001b[1;33m,\u001b[0m \u001b[0my\u001b[0m \u001b[1;33m=\u001b[0m \u001b[0mcheck_X_y\u001b[0m\u001b[1;33m(\u001b[0m\u001b[0mX\u001b[0m\u001b[1;33m,\u001b[0m \u001b[0my\u001b[0m\u001b[1;33m,\u001b[0m \u001b[1;33m**\u001b[0m\u001b[0mcheck_params\u001b[0m\u001b[1;33m)\u001b[0m\u001b[1;33m\u001b[0m\u001b[1;33m\u001b[0m\u001b[0m\n\u001b[0m\u001b[0;32m    433\u001b[0m             \u001b[0mout\u001b[0m \u001b[1;33m=\u001b[0m \u001b[0mX\u001b[0m\u001b[1;33m,\u001b[0m \u001b[0my\u001b[0m\u001b[1;33m\u001b[0m\u001b[1;33m\u001b[0m\u001b[0m\n\u001b[0;32m    434\u001b[0m \u001b[1;33m\u001b[0m\u001b[0m\n",
      "\u001b[1;32m~\\anaconda3\\envs\\Tensorflow2.2\\lib\\site-packages\\sklearn\\utils\\validation.py\u001b[0m in \u001b[0;36minner_f\u001b[1;34m(*args, **kwargs)\u001b[0m\n\u001b[0;32m     70\u001b[0m                           FutureWarning)\n\u001b[0;32m     71\u001b[0m         \u001b[0mkwargs\u001b[0m\u001b[1;33m.\u001b[0m\u001b[0mupdate\u001b[0m\u001b[1;33m(\u001b[0m\u001b[1;33m{\u001b[0m\u001b[0mk\u001b[0m\u001b[1;33m:\u001b[0m \u001b[0marg\u001b[0m \u001b[1;32mfor\u001b[0m \u001b[0mk\u001b[0m\u001b[1;33m,\u001b[0m \u001b[0marg\u001b[0m \u001b[1;32min\u001b[0m \u001b[0mzip\u001b[0m\u001b[1;33m(\u001b[0m\u001b[0msig\u001b[0m\u001b[1;33m.\u001b[0m\u001b[0mparameters\u001b[0m\u001b[1;33m,\u001b[0m \u001b[0margs\u001b[0m\u001b[1;33m)\u001b[0m\u001b[1;33m}\u001b[0m\u001b[1;33m)\u001b[0m\u001b[1;33m\u001b[0m\u001b[1;33m\u001b[0m\u001b[0m\n\u001b[1;32m---> 72\u001b[1;33m         \u001b[1;32mreturn\u001b[0m \u001b[0mf\u001b[0m\u001b[1;33m(\u001b[0m\u001b[1;33m**\u001b[0m\u001b[0mkwargs\u001b[0m\u001b[1;33m)\u001b[0m\u001b[1;33m\u001b[0m\u001b[1;33m\u001b[0m\u001b[0m\n\u001b[0m\u001b[0;32m     73\u001b[0m     \u001b[1;32mreturn\u001b[0m \u001b[0minner_f\u001b[0m\u001b[1;33m\u001b[0m\u001b[1;33m\u001b[0m\u001b[0m\n\u001b[0;32m     74\u001b[0m \u001b[1;33m\u001b[0m\u001b[0m\n",
      "\u001b[1;32m~\\anaconda3\\envs\\Tensorflow2.2\\lib\\site-packages\\sklearn\\utils\\validation.py\u001b[0m in \u001b[0;36mcheck_X_y\u001b[1;34m(X, y, accept_sparse, accept_large_sparse, dtype, order, copy, force_all_finite, ensure_2d, allow_nd, multi_output, ensure_min_samples, ensure_min_features, y_numeric, estimator)\u001b[0m\n\u001b[0;32m    800\u001b[0m                     \u001b[0mensure_min_samples\u001b[0m\u001b[1;33m=\u001b[0m\u001b[0mensure_min_samples\u001b[0m\u001b[1;33m,\u001b[0m\u001b[1;33m\u001b[0m\u001b[1;33m\u001b[0m\u001b[0m\n\u001b[0;32m    801\u001b[0m                     \u001b[0mensure_min_features\u001b[0m\u001b[1;33m=\u001b[0m\u001b[0mensure_min_features\u001b[0m\u001b[1;33m,\u001b[0m\u001b[1;33m\u001b[0m\u001b[1;33m\u001b[0m\u001b[0m\n\u001b[1;32m--> 802\u001b[1;33m                     estimator=estimator)\n\u001b[0m\u001b[0;32m    803\u001b[0m     \u001b[1;32mif\u001b[0m \u001b[0mmulti_output\u001b[0m\u001b[1;33m:\u001b[0m\u001b[1;33m\u001b[0m\u001b[1;33m\u001b[0m\u001b[0m\n\u001b[0;32m    804\u001b[0m         y = check_array(y, accept_sparse='csr', force_all_finite=True,\n",
      "\u001b[1;32m~\\anaconda3\\envs\\Tensorflow2.2\\lib\\site-packages\\sklearn\\utils\\validation.py\u001b[0m in \u001b[0;36minner_f\u001b[1;34m(*args, **kwargs)\u001b[0m\n\u001b[0;32m     70\u001b[0m                           FutureWarning)\n\u001b[0;32m     71\u001b[0m         \u001b[0mkwargs\u001b[0m\u001b[1;33m.\u001b[0m\u001b[0mupdate\u001b[0m\u001b[1;33m(\u001b[0m\u001b[1;33m{\u001b[0m\u001b[0mk\u001b[0m\u001b[1;33m:\u001b[0m \u001b[0marg\u001b[0m \u001b[1;32mfor\u001b[0m \u001b[0mk\u001b[0m\u001b[1;33m,\u001b[0m \u001b[0marg\u001b[0m \u001b[1;32min\u001b[0m \u001b[0mzip\u001b[0m\u001b[1;33m(\u001b[0m\u001b[0msig\u001b[0m\u001b[1;33m.\u001b[0m\u001b[0mparameters\u001b[0m\u001b[1;33m,\u001b[0m \u001b[0margs\u001b[0m\u001b[1;33m)\u001b[0m\u001b[1;33m}\u001b[0m\u001b[1;33m)\u001b[0m\u001b[1;33m\u001b[0m\u001b[1;33m\u001b[0m\u001b[0m\n\u001b[1;32m---> 72\u001b[1;33m         \u001b[1;32mreturn\u001b[0m \u001b[0mf\u001b[0m\u001b[1;33m(\u001b[0m\u001b[1;33m**\u001b[0m\u001b[0mkwargs\u001b[0m\u001b[1;33m)\u001b[0m\u001b[1;33m\u001b[0m\u001b[1;33m\u001b[0m\u001b[0m\n\u001b[0m\u001b[0;32m     73\u001b[0m     \u001b[1;32mreturn\u001b[0m \u001b[0minner_f\u001b[0m\u001b[1;33m\u001b[0m\u001b[1;33m\u001b[0m\u001b[0m\n\u001b[0;32m     74\u001b[0m \u001b[1;33m\u001b[0m\u001b[0m\n",
      "\u001b[1;32m~\\anaconda3\\envs\\Tensorflow2.2\\lib\\site-packages\\sklearn\\utils\\validation.py\u001b[0m in \u001b[0;36mcheck_array\u001b[1;34m(array, accept_sparse, accept_large_sparse, dtype, order, copy, force_all_finite, ensure_2d, allow_nd, ensure_min_samples, ensure_min_features, estimator)\u001b[0m\n\u001b[0;32m    643\u001b[0m         \u001b[1;32mif\u001b[0m \u001b[0mforce_all_finite\u001b[0m\u001b[1;33m:\u001b[0m\u001b[1;33m\u001b[0m\u001b[1;33m\u001b[0m\u001b[0m\n\u001b[0;32m    644\u001b[0m             _assert_all_finite(array,\n\u001b[1;32m--> 645\u001b[1;33m                                allow_nan=force_all_finite == 'allow-nan')\n\u001b[0m\u001b[0;32m    646\u001b[0m \u001b[1;33m\u001b[0m\u001b[0m\n\u001b[0;32m    647\u001b[0m     \u001b[1;32mif\u001b[0m \u001b[0mensure_min_samples\u001b[0m \u001b[1;33m>\u001b[0m \u001b[1;36m0\u001b[0m\u001b[1;33m:\u001b[0m\u001b[1;33m\u001b[0m\u001b[1;33m\u001b[0m\u001b[0m\n",
      "\u001b[1;32m~\\anaconda3\\envs\\Tensorflow2.2\\lib\\site-packages\\sklearn\\utils\\validation.py\u001b[0m in \u001b[0;36m_assert_all_finite\u001b[1;34m(X, allow_nan, msg_dtype)\u001b[0m\n\u001b[0;32m     97\u001b[0m                     \u001b[0mmsg_err\u001b[0m\u001b[1;33m.\u001b[0m\u001b[0mformat\u001b[0m\u001b[1;33m\u001b[0m\u001b[1;33m\u001b[0m\u001b[0m\n\u001b[0;32m     98\u001b[0m                     (type_err,\n\u001b[1;32m---> 99\u001b[1;33m                      msg_dtype if msg_dtype is not None else X.dtype)\n\u001b[0m\u001b[0;32m    100\u001b[0m             )\n\u001b[0;32m    101\u001b[0m     \u001b[1;31m# for object dtype data, we only check for NaNs (GH-13254)\u001b[0m\u001b[1;33m\u001b[0m\u001b[1;33m\u001b[0m\u001b[1;33m\u001b[0m\u001b[0m\n",
      "\u001b[1;31mValueError\u001b[0m: Input contains NaN, infinity or a value too large for dtype('float32')."
     ]
    }
   ],
   "source": [
    "from sklearn.model_selection import train_test_split\n",
    "\n",
    "x_train,x_test,y_train,y_test = train_test_split(crash,dead,random_state=0)\n",
    "rfmodel.fit(x_train,y_train)\n",
    "# rfmodel.predict([[4,0]])\n",
    "\n",
    "\n",
    "print('변수의 중요도 : {}'.format(rfmodel.feature_importances_))\n"
   ]
  },
  {
   "cell_type": "code",
   "execution_count": 44,
   "metadata": {},
   "outputs": [
    {
     "data": {
      "text/plain": [
       " 측면충돌          374\n",
       " 기타            116\n",
       " 추돌             90\n",
       " 횡단중            89\n",
       " 전도전복           44\n",
       " 정면충돌           38\n",
       " 공작물충돌          36\n",
       " 도로외이탈          13\n",
       " 전도전복           10\n",
       " 보도통행중           9\n",
       " 차도통행중           9\n",
       " 길가장자리구역통행중      8\n",
       "Name: 사고타입2, dtype: int64"
      ]
     },
     "execution_count": 44,
     "metadata": {},
     "output_type": "execute_result"
    }
   ],
   "source": [
    "b['사고타입2'].value_counts()"
   ]
  },
  {
   "cell_type": "code",
   "execution_count": 49,
   "metadata": {},
   "outputs": [],
   "source": [
    "b = b.rename({'가해운전자 연령.1':'가해운전자 연령대'},axis='columns')"
   ]
  },
  {
   "cell_type": "code",
   "execution_count": 50,
   "metadata": {},
   "outputs": [],
   "source": [
    "b['가해운전자 연령대'] = b['가해운전자 연령대'].replace({'30대':3,'50대':5,'40대':4,'60대':6,'70대':7,'10대':1,'80대':8,'20대':2,'90대':9,'미분류':5})"
   ]
  },
  {
   "cell_type": "code",
   "execution_count": 52,
   "metadata": {},
   "outputs": [
    {
     "data": {
      "image/png": "[encoded data removed]",
      "text/plain": [
       "<Figure size 720x360 with 1 Axes>"
      ]
     },
     "metadata": {},
     "output_type": "display_data"
    }
   ],
   "source": [
    "fig,ax = plt.subplots()\n",
    "fig.set_size_inches(10,5)\n",
    "\n",
    "sns.countplot(data=b,y='가해운전자 상해정도',order=['상해없음','경상','중상','부상신고','사망'])\n",
    "plt.xlabel('가해운전자 수')\n",
    "plt.rc('font',family=font_ob)"
   ]
  },
  {
   "cell_type": "code",
   "execution_count": 13,
   "metadata": {},
   "outputs": [
    {
     "data": {
      "text/plain": [
       "맑음    768\n",
       "비      41\n",
       "흐림     23\n",
       "기타      3\n",
       "눈       1\n",
       "Name: 기상상태, dtype: int64"
      ]
     },
     "execution_count": 13,
     "metadata": {},
     "output_type": "execute_result"
    }
   ],
   "source": [
    "b['기상상태'].value_counts()"
   ]
  },
  {
   "cell_type": "code",
   "execution_count": 32,
   "metadata": {},
   "outputs": [
    {
     "data": {
      "text/plain": [
       "차대차      582\n",
       "차대사람     135\n",
       "차량단독     119\n",
       "Name: 사고타입, dtype: int64"
      ]
     },
     "execution_count": 32,
     "metadata": {},
     "output_type": "execute_result"
    }
   ],
   "source": [
    "b['사고타입'].value_counts()"
   ]
  },
  {
   "cell_type": "code",
   "execution_count": 33,
   "metadata": {},
   "outputs": [
    {
     "data": {
      "text/plain": [
       "안전운전불이행      457\n",
       "신호위반         116\n",
       "안전거리미확보       60\n",
       "중앙선침범         57\n",
       "교차로운행방법위반     40\n",
       "직진우회전진행방해     35\n",
       "보행자보호의무위반     33\n",
       "기타            25\n",
       "차로위반           5\n",
       "과속             5\n",
       "불법유턴           3\n",
       "Name: 법규위반, dtype: int64"
      ]
     },
     "execution_count": 33,
     "metadata": {},
     "output_type": "execute_result"
    }
   ],
   "source": [
    "b['법규위반'].value_counts()"
   ]
  },
  {
   "cell_type": "code",
   "execution_count": 34,
   "metadata": {},
   "outputs": [
    {
     "data": {
      "text/plain": [
       "경상      351\n",
       "상해없음    234\n",
       "중상      106\n",
       "미분류      27\n",
       "부상신고     18\n",
       "기타불명      6\n",
       "사망        2\n",
       "Name: 피해운전자 상해정도, dtype: int64"
      ]
     },
     "execution_count": 34,
     "metadata": {},
     "output_type": "execute_result"
    }
   ],
   "source": [
    "b['피해운전자 상해정도'].value_counts()"
   ]
  },
  {
   "cell_type": "code",
   "execution_count": 37,
   "metadata": {},
   "outputs": [
    {
     "data": {
      "text/plain": [
       "1    155\n",
       "2    153\n",
       "3    123\n",
       "5    118\n",
       "6     94\n",
       "7     86\n",
       "4     81\n",
       "8     24\n",
       "9      2\n",
       "Name: 가해운전자 연령대, dtype: int64"
      ]
     },
     "execution_count": 37,
     "metadata": {},
     "output_type": "execute_result"
    }
   ],
   "source": [
    "b['가해운전자 연령대'].value_counts()"
   ]
  },
  {
   "cell_type": "code",
   "execution_count": 71,
   "metadata": {},
   "outputs": [
    {
     "data": {
      "text/plain": [
       "토요일    156\n",
       "일요일    128\n",
       "수요일    123\n",
       "금요일    116\n",
       "목요일    113\n",
       "화요일    103\n",
       "월요일     97\n",
       "Name: 요일, dtype: int64"
      ]
     },
     "execution_count": 71,
     "metadata": {},
     "output_type": "execute_result"
    }
   ],
   "source": [
    "b['요일'].value_counts()"
   ]
  },
  {
   "cell_type": "code",
   "execution_count": 70,
   "metadata": {},
   "outputs": [
    {
     "data": {
      "text/plain": [
       "2019년    305\n",
       "2018년    278\n",
       "2017년    253\n",
       "Name: 년, dtype: int64"
      ]
     },
     "execution_count": 70,
     "metadata": {},
     "output_type": "execute_result"
    }
   ],
   "source": [
    "b['년'].value_counts()"
   ]
  },
  {
   "cell_type": "code",
   "execution_count": 76,
   "metadata": {
    "scrolled": false
   },
   "outputs": [
    {
     "data": {
      "text/plain": [
       "<matplotlib.axes._subplots.AxesSubplot at 0x1eec4a17048>"
      ]
     },
     "execution_count": 76,
     "metadata": {},
     "output_type": "execute_result"
    },
    {
     "data": {
      "image/png": "[encoded data removed]",
      "text/plain": [
       "<Figure size 720x360 with 1 Axes>"
      ]
     },
     "metadata": {},
     "output_type": "display_data"
    }
   ],
   "source": [
    "fig,ax = plt.subplots()\n",
    "fig.set_size_inches(10,5)\n",
    "\n",
    "sns.barplot(data=b,x=b['년'].values,y=b['년'].index.values)"
   ]
  },
  {
   "cell_type": "code",
   "execution_count": 50,
   "metadata": {},
   "outputs": [
    {
     "data": {
      "text/plain": [
       "2019년    305\n",
       "2018년    278\n",
       "2017년    253\n",
       "Name: 년, dtype: int64"
      ]
     },
     "execution_count": 50,
     "metadata": {},
     "output_type": "execute_result"
    }
   ],
   "source": [
    "b['년'].value_counts()"
   ]
  },
  {
   "cell_type": "code",
   "execution_count": 5,
   "metadata": {},
   "outputs": [
    {
     "data": {
      "text/plain": [
       "남       805\n",
       "여        29\n",
       "기타불명      2\n",
       "Name: 가해운전자 성별, dtype: int64"
      ]
     },
     "execution_count": 5,
     "metadata": {},
     "output_type": "execute_result"
    }
   ],
   "source": [
    "b['가해운전자 성별'].value_counts()"
   ]
  },
  {
   "cell_type": "code",
   "execution_count": 18,
   "metadata": {},
   "outputs": [
    {
     "data": {
      "image/png": "[encoded data removed]",
      "text/plain": [
       "<Figure size 720x504 with 1 Axes>"
      ]
     },
     "metadata": {},
     "output_type": "display_data"
    }
   ],
   "source": [
    "fig,ax = plt.subplots()\n",
    "fig.set_size_inches(10,7)\n",
    "\n",
    "sns.countplot(data=b,x='가해운전자 성별')\n",
    "plt.ylabel('가해운전자 수')\n",
    "plt.title('성별에 따른 가해운전자')\n",
    "plt.rc('font',family=font_ob)"
   ]
  },
  {
   "cell_type": "code",
   "execution_count": 179,
   "metadata": {},
   "outputs": [
    {
     "data": {
      "text/plain": [
       "array([-0.16375612,  0.02996751])"
      ]
     },
     "execution_count": 179,
     "metadata": {},
     "output_type": "execute_result"
    }
   ],
   "source": [
    "LR.coef_[0]"
   ]
  },
  {
   "cell_type": "code",
   "execution_count": 180,
   "metadata": {},
   "outputs": [
    {
     "data": {
      "text/plain": [
       "-0.09743735206370929"
      ]
     },
     "execution_count": 180,
     "metadata": {},
     "output_type": "execute_result"
    }
   ],
   "source": [
    "LR.intercept_[0]"
   ]
  },
  {
   "cell_type": "code",
   "execution_count": 148,
   "metadata": {},
   "outputs": [],
   "source": [
    "test = a.loc[a['사고내용'] == 1]"
   ]
  },
  {
   "cell_type": "code",
   "execution_count": 163,
   "metadata": {},
   "outputs": [
    {
     "data": {
      "text/plain": [
       "5    426\n",
       "4    135\n",
       "3     63\n",
       "2     50\n",
       "1     23\n",
       "0     14\n",
       "Name: 피해운전자_차종, dtype: int64"
      ]
     },
     "execution_count": 163,
     "metadata": {},
     "output_type": "execute_result"
    }
   ],
   "source": [
    "a['피해운전자_차종'].value_counts()"
   ]
  },
  {
   "cell_type": "code",
   "execution_count": 171,
   "metadata": {},
   "outputs": [
    {
     "data": {
      "text/plain": [
       "20대    136\n",
       "10대    133\n",
       "30대    106\n",
       "50대     97\n",
       "60대     75\n",
       "70대     73\n",
       "40대     66\n",
       "80대     21\n",
       "90대      2\n",
       "미분류      2\n",
       "Name: 가해운전자_연령_1, dtype: int64"
      ]
     },
     "execution_count": 171,
     "metadata": {},
     "output_type": "execute_result"
    }
   ],
   "source": [
    "a['가해운전자_연령_1'].value_counts()"
   ]
  },
  {
   "cell_type": "code",
   "execution_count": 162,
   "metadata": {},
   "outputs": [],
   "source": [
    "# a['피해운전자_차종'] = a['피해운전자_차종'].replace({'자전거':0,'승합':1,'화물':2,'이륜':3,'보행자':4,'승용':5, '특수':0})"
   ]
  },
  {
   "cell_type": "code",
   "execution_count": 172,
   "metadata": {},
   "outputs": [],
   "source": [
    "a['가해운전자_연령_1'] = a['가해운전자_연령_1'].replace({'30대':3,'50대':5,'40대':4,'60대':6,'70대':7,'10대':1,'80대':8,'20대':2,'90대':9,'미분류':0})"
   ]
  },
  {
   "cell_type": "code",
   "execution_count": 173,
   "metadata": {},
   "outputs": [
    {
     "data": {
      "text/html": [
       "<div>\n",
       "<style scoped>\n",
       "    .dataframe tbody tr th:only-of-type {\n",
       "        vertical-align: middle;\n",
       "    }\n",
       "\n",
       "    .dataframe tbody tr th {\n",
       "        vertical-align: top;\n",
       "    }\n",
       "\n",
       "    .dataframe thead th {\n",
       "        text-align: right;\n",
       "    }\n",
       "</style>\n",
       "<table border=\"1\" class=\"dataframe\">\n",
       "  <thead>\n",
       "    <tr style=\"text-align: right;\">\n",
       "      <th></th>\n",
       "      <th>사고내용</th>\n",
       "      <th>사망자수</th>\n",
       "      <th>중상자수</th>\n",
       "      <th>경상자수</th>\n",
       "      <th>부상신고자수</th>\n",
       "      <th>년</th>\n",
       "      <th>월</th>\n",
       "      <th>계절</th>\n",
       "      <th>일</th>\n",
       "      <th>시간</th>\n",
       "      <th>...</th>\n",
       "      <th>가해운전자_성별</th>\n",
       "      <th>가해운전자_연령</th>\n",
       "      <th>가해운전자_연령_1</th>\n",
       "      <th>가해운전자_연령2</th>\n",
       "      <th>가해운전자_상해정도</th>\n",
       "      <th>피해운전자_차종</th>\n",
       "      <th>피해운전자_성별</th>\n",
       "      <th>피해운전자_연령</th>\n",
       "      <th>연령대</th>\n",
       "      <th>피해운전자_상해정도</th>\n",
       "    </tr>\n",
       "  </thead>\n",
       "  <tbody>\n",
       "    <tr>\n",
       "      <th>0</th>\n",
       "      <td>1</td>\n",
       "      <td>0</td>\n",
       "      <td>1</td>\n",
       "      <td>0</td>\n",
       "      <td>0</td>\n",
       "      <td>2017년</td>\n",
       "      <td>1</td>\n",
       "      <td>겨울</td>\n",
       "      <td>6일</td>\n",
       "      <td>21</td>\n",
       "      <td>...</td>\n",
       "      <td>1</td>\n",
       "      <td>16세</td>\n",
       "      <td>1</td>\n",
       "      <td>01월 19일</td>\n",
       "      <td>중상</td>\n",
       "      <td>5</td>\n",
       "      <td>남</td>\n",
       "      <td>34세</td>\n",
       "      <td>3</td>\n",
       "      <td>상해없음</td>\n",
       "    </tr>\n",
       "    <tr>\n",
       "      <th>1</th>\n",
       "      <td>0</td>\n",
       "      <td>0</td>\n",
       "      <td>0</td>\n",
       "      <td>1</td>\n",
       "      <td>0</td>\n",
       "      <td>2017년</td>\n",
       "      <td>1</td>\n",
       "      <td>겨울</td>\n",
       "      <td>18일</td>\n",
       "      <td>18</td>\n",
       "      <td>...</td>\n",
       "      <td>1</td>\n",
       "      <td>23세</td>\n",
       "      <td>2</td>\n",
       "      <td>20-64</td>\n",
       "      <td>상해없음</td>\n",
       "      <td>5</td>\n",
       "      <td>남</td>\n",
       "      <td>65세</td>\n",
       "      <td>6</td>\n",
       "      <td>상해없음</td>\n",
       "    </tr>\n",
       "    <tr>\n",
       "      <th>2</th>\n",
       "      <td>0</td>\n",
       "      <td>0</td>\n",
       "      <td>0</td>\n",
       "      <td>1</td>\n",
       "      <td>0</td>\n",
       "      <td>2017년</td>\n",
       "      <td>1</td>\n",
       "      <td>겨울</td>\n",
       "      <td>26일</td>\n",
       "      <td>21</td>\n",
       "      <td>...</td>\n",
       "      <td>1</td>\n",
       "      <td>31세</td>\n",
       "      <td>3</td>\n",
       "      <td>20-64</td>\n",
       "      <td>경상</td>\n",
       "      <td>5</td>\n",
       "      <td>남</td>\n",
       "      <td>28세</td>\n",
       "      <td>2</td>\n",
       "      <td>상해없음</td>\n",
       "    </tr>\n",
       "    <tr>\n",
       "      <th>3</th>\n",
       "      <td>1</td>\n",
       "      <td>1</td>\n",
       "      <td>0</td>\n",
       "      <td>0</td>\n",
       "      <td>0</td>\n",
       "      <td>2017년</td>\n",
       "      <td>2</td>\n",
       "      <td>겨울</td>\n",
       "      <td>2일</td>\n",
       "      <td>18</td>\n",
       "      <td>...</td>\n",
       "      <td>1</td>\n",
       "      <td>55세</td>\n",
       "      <td>5</td>\n",
       "      <td>20-64</td>\n",
       "      <td>사망</td>\n",
       "      <td>1</td>\n",
       "      <td>남</td>\n",
       "      <td>52세</td>\n",
       "      <td>5</td>\n",
       "      <td>상해없음</td>\n",
       "    </tr>\n",
       "    <tr>\n",
       "      <th>4</th>\n",
       "      <td>0</td>\n",
       "      <td>0</td>\n",
       "      <td>0</td>\n",
       "      <td>1</td>\n",
       "      <td>0</td>\n",
       "      <td>2017년</td>\n",
       "      <td>2</td>\n",
       "      <td>겨울</td>\n",
       "      <td>8일</td>\n",
       "      <td>10</td>\n",
       "      <td>...</td>\n",
       "      <td>1</td>\n",
       "      <td>80세</td>\n",
       "      <td>8</td>\n",
       "      <td>over 65</td>\n",
       "      <td>경상</td>\n",
       "      <td>1</td>\n",
       "      <td>여</td>\n",
       "      <td>52세</td>\n",
       "      <td>5</td>\n",
       "      <td>경상</td>\n",
       "    </tr>\n",
       "  </tbody>\n",
       "</table>\n",
       "<p>5 rows × 34 columns</p>\n",
       "</div>"
      ],
      "text/plain": [
       "   사고내용  사망자수  중상자수  경상자수  부상신고자수      년  월  계절    일  시간  ... 가해운전자_성별  \\\n",
       "0     1     0     1     0       0  2017년  1  겨울   6일  21  ...        1   \n",
       "1     0     0     0     1       0  2017년  1  겨울  18일  18  ...        1   \n",
       "2     0     0     0     1       0  2017년  1  겨울  26일  21  ...        1   \n",
       "3     1     1     0     0       0  2017년  2  겨울   2일  18  ...        1   \n",
       "4     0     0     0     1       0  2017년  2  겨울   8일  10  ...        1   \n",
       "\n",
       "  가해운전자_연령 가해운전자_연령_1 가해운전자_연령2 가해운전자_상해정도 피해운전자_차종 피해운전자_성별 피해운전자_연령 연령대  \\\n",
       "0      16세          1   01월 19일         중상        5        남      34세   3   \n",
       "1      23세          2     20-64       상해없음        5        남      65세   6   \n",
       "2      31세          3     20-64         경상        5        남      28세   2   \n",
       "3      55세          5     20-64         사망        1        남      52세   5   \n",
       "4      80세          8   over 65         경상        1        여      52세   5   \n",
       "\n",
       "  피해운전자_상해정도  \n",
       "0       상해없음  \n",
       "1       상해없음  \n",
       "2       상해없음  \n",
       "3       상해없음  \n",
       "4         경상  \n",
       "\n",
       "[5 rows x 34 columns]"
      ]
     },
     "execution_count": 173,
     "metadata": {},
     "output_type": "execute_result"
    }
   ],
   "source": [
    "a.head()"
   ]
  },
  {
   "cell_type": "code",
   "execution_count": 83,
   "metadata": {},
   "outputs": [
    {
     "data": {
      "text/plain": [
       "Index(['사고내용', '사망자수', '중상자수', '경상자수', '부상신고자수', '년', '월', '계절', '일', '시간',\n",
       "       '시간대', '요일', '주중주말', '구', '시군', '법정동', '사고유형', '사고타입', '사고타입2', '법규위반',\n",
       "       '노면상태', '기상상태', '도로형태', '가해운전자_차종', '가해운전자_성별', '가해운전자_연령',\n",
       "       '가해운전자_연령_1', '가해운전자_연령2', '가해운전자_상해정도', '피해운전자_차종', '피해운전자_성별',\n",
       "       '피해운전자_연령', '연령대', '피해운전자_상해정도'],\n",
       "      dtype='object')"
      ]
     },
     "execution_count": 83,
     "metadata": {},
     "output_type": "execute_result"
    }
   ],
   "source": [
    "a.keys()"
   ]
  },
  {
   "cell_type": "code",
   "execution_count": 55,
   "metadata": {},
   "outputs": [
    {
     "data": {
      "text/plain": [
       "여름    225\n",
       "가을    203\n",
       "봄     195\n",
       "겨울     93\n",
       "Name: 계절, dtype: int64"
      ]
     },
     "execution_count": 55,
     "metadata": {},
     "output_type": "execute_result"
    }
   ],
   "source": [
    "a['계절'].value_counts()"
   ]
  },
  {
   "cell_type": "code",
   "execution_count": 175,
   "metadata": {},
   "outputs": [],
   "source": [
    "from sklearn.model_selection import train_test_split\n",
    "\n",
    "x_train,x_test,y_train,y_test = train_test_split(crash,dead,test_size=0.2,random_state=42)"
   ]
  },
  {
   "cell_type": "code",
   "execution_count": 176,
   "metadata": {
    "scrolled": true
   },
   "outputs": [
    {
     "data": {
      "text/plain": [
       "LogisticRegression()"
      ]
     },
     "execution_count": 176,
     "metadata": {},
     "output_type": "execute_result"
    }
   ],
   "source": [
    "from sklearn.linear_model import LogisticRegression\n",
    "\n",
    "LR = LogisticRegression()\n",
    "\n",
    "LR.fit(x_train,y_train)"
   ]
  },
  {
   "cell_type": "code",
   "execution_count": 177,
   "metadata": {},
   "outputs": [
    {
     "data": {
      "text/plain": [
       "array([0], dtype=int64)"
      ]
     },
     "execution_count": 177,
     "metadata": {},
     "output_type": "execute_result"
    }
   ],
   "source": [
    "LR.predict([[1,0]])"
   ]
  },
  {
   "cell_type": "code",
   "execution_count": 178,
   "metadata": {},
   "outputs": [
    {
     "data": {
      "text/plain": [
       "0.6566901408450704"
      ]
     },
     "execution_count": 178,
     "metadata": {},
     "output_type": "execute_result"
    }
   ],
   "source": [
    "LR.score(x_train,y_train)"
   ]
  },
  {
   "cell_type": "code",
   "execution_count": 181,
   "metadata": {},
   "outputs": [
    {
     "data": {
      "text/plain": [
       "array([-0.16375612,  0.02996751])"
      ]
     },
     "execution_count": 181,
     "metadata": {},
     "output_type": "execute_result"
    }
   ],
   "source": [
    "LR.coef_[0]"
   ]
  },
  {
   "cell_type": "code",
   "execution_count": 182,
   "metadata": {},
   "outputs": [
    {
     "data": {
      "text/plain": [
       "-0.09743735206370929"
      ]
     },
     "execution_count": 182,
     "metadata": {},
     "output_type": "execute_result"
    }
   ],
   "source": [
    "LR.intercept_[0]"
   ]
  },
  {
   "cell_type": "code",
   "execution_count": 113,
   "metadata": {},
   "outputs": [
    {
     "name": "stdout",
     "output_type": "stream",
     "text": [
      "남성은 0 여성은 1로 표기하였다\n"
     ]
    }
   ],
   "source": [
    "print('남성은 0 여성은 1로 표기하였다')"
   ]
  },
  {
   "cell_type": "code",
   "execution_count": 114,
   "metadata": {},
   "outputs": [
    {
     "data": {
      "text/plain": [
       "경상사고      443\n",
       "중상사고      264\n",
       "부상신고사고     66\n",
       "사망사고       63\n",
       "Name: 사고내용, dtype: int64"
      ]
     },
     "execution_count": 114,
     "metadata": {},
     "output_type": "execute_result"
    }
   ],
   "source": [
    "a['사고내용'].value_counts()"
   ]
  },
  {
   "cell_type": "code",
   "execution_count": 115,
   "metadata": {},
   "outputs": [
    {
     "data": {
      "text/plain": [
       "2019년    305\n",
       "2018년    278\n",
       "2017년    253\n",
       "Name: 년, dtype: int64"
      ]
     },
     "execution_count": 115,
     "metadata": {},
     "output_type": "execute_result"
    }
   ],
   "source": [
    "a['년'].value_counts()"
   ]
  },
  {
   "cell_type": "code",
   "execution_count": 116,
   "metadata": {},
   "outputs": [
    {
     "data": {
      "text/plain": [
       "여름    266\n",
       "가을    240\n",
       "봄     228\n",
       "겨울    102\n",
       "Name: 계절, dtype: int64"
      ]
     },
     "execution_count": 116,
     "metadata": {},
     "output_type": "execute_result"
    }
   ],
   "source": [
    "a['계절'].value_counts()"
   ]
  }
 ],
 "metadata": {
  "kernelspec": {
   "display_name": "Python 3",
   "language": "python",
   "name": "python3"
  },
  "language_info": {
   "codemirror_mode": {
    "name": "ipython",
    "version": 3
   },
   "file_extension": ".py",
   "mimetype": "text/x-python",
   "name": "python",
   "nbconvert_exporter": "python",
   "pygments_lexer": "ipython3",
   "version": "3.6.7"
  }
 },
 "nbformat": 4,
 "nbformat_minor": 4
}
